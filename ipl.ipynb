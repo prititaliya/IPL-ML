{
 "cells": [
  {
   "cell_type": "code",
   "execution_count": 3,
   "metadata": {},
   "outputs": [],
   "source": [
    "import pandas as pd\n",
    "import numpy as np"
   ]
  },
  {
   "cell_type": "code",
   "execution_count": 4,
   "metadata": {},
   "outputs": [],
   "source": [
    "%matplotlib inline\n",
    "import matplotlib.pyplot as plt\n",
    "import seaborn as sns\n",
    "from sklearn.model_selection import train_test_split"
   ]
  },
  {
   "cell_type": "code",
   "execution_count": 5,
   "metadata": {},
   "outputs": [],
   "source": [
    "matches=pd.read_csv('matches_cleaned.csv')\n",
    "deliveries=pd.read_csv('deliveries.csv')"
   ]
  },
  {
   "cell_type": "code",
   "execution_count": null,
   "metadata": {},
   "outputs": [],
   "source": [
    "matches.sample(5)"
   ]
  },
  {
   "cell_type": "code",
   "execution_count": 47,
   "metadata": {},
   "outputs": [
    {
     "data": {
      "text/html": [
       "\n",
       "            <div>\n",
       "                <ins><a href=\"ttps://ydata.ai/register\">Upgrade to ydata-sdk</a></ins>\n",
       "                <p>\n",
       "                    Improve your data and profiling with ydata-sdk, featuring data quality scoring, redundancy detection, outlier identification, text validation, and synthetic data generation.\n",
       "                </p>\n",
       "            </div>\n",
       "            "
      ],
      "text/plain": [
       "<IPython.core.display.HTML object>"
      ]
     },
     "metadata": {},
     "output_type": "display_data"
    },
    {
     "name": "stderr",
     "output_type": "stream",
     "text": [
      "/var/folders/ct/586vcml54jgf9dlg8gh73lq40000gn/T/ipykernel_29782/2274191625.py:1: DeprecationWarning: `import pandas_profiling` is going to be deprecated by April 1st. Please use `import ydata_profiling` instead.\n",
      "  from pandas_profiling import ProfileReport\n"
     ]
    }
   ],
   "source": [
    "from pandas_profiling import ProfileReport"
   ]
  },
  {
   "cell_type": "code",
   "execution_count": null,
   "metadata": {},
   "outputs": [
    {
     "data": {
      "application/vnd.jupyter.widget-view+json": {
       "model_id": "ac33e3d165c1483bb5ad053c8744fa3a",
       "version_major": 2,
       "version_minor": 0
      },
      "text/plain": [
       "Summarize dataset:   0%|          | 0/5 [00:00<?, ?it/s]"
      ]
     },
     "metadata": {},
     "output_type": "display_data"
    },
    {
     "data": {
      "application/vnd.jupyter.widget-view+json": {
       "model_id": "8d94c790c4f7426b97af03c7a8021341",
       "version_major": 2,
       "version_minor": 0
      },
      "text/plain": [
       "Generate report structure:   0%|          | 0/1 [00:00<?, ?it/s]"
      ]
     },
     "metadata": {},
     "output_type": "display_data"
    },
    {
     "data": {
      "application/vnd.jupyter.widget-view+json": {
       "model_id": "3d5d2b89b4d240658f8568cb01e50d5f",
       "version_major": 2,
       "version_minor": 0
      },
      "text/plain": [
       "Render HTML:   0%|          | 0/1 [00:00<?, ?it/s]"
      ]
     },
     "metadata": {},
     "output_type": "display_data"
    },
    {
     "data": {
      "application/vnd.jupyter.widget-view+json": {
       "model_id": "247ab3517cab44e8bf66437154838006",
       "version_major": 2,
       "version_minor": 0
      },
      "text/plain": [
       "Export report to file:   0%|          | 0/1 [00:00<?, ?it/s]"
      ]
     },
     "metadata": {},
     "output_type": "display_data"
    }
   ],
   "source": [
    "ProfileReport(matches, title='IPL Matches Report', explorative=True).to_file(\"matches_report.html\")"
   ]
  },
  {
   "cell_type": "code",
   "execution_count": null,
   "metadata": {},
   "outputs": [
    {
     "data": {
      "application/vnd.jupyter.widget-view+json": {
       "model_id": "af130282773142a2991f9a7bddfeec66",
       "version_major": 2,
       "version_minor": 0
      },
      "text/plain": [
       "Summarize dataset:   0%|          | 0/5 [00:00<?, ?it/s]"
      ]
     },
     "metadata": {},
     "output_type": "display_data"
    },
    {
     "data": {
      "application/vnd.jupyter.widget-view+json": {
       "model_id": "5537d6c9152648369c7afa78e26735a5",
       "version_major": 2,
       "version_minor": 0
      },
      "text/plain": [
       "Generate report structure:   0%|          | 0/1 [00:00<?, ?it/s]"
      ]
     },
     "metadata": {},
     "output_type": "display_data"
    },
    {
     "data": {
      "application/vnd.jupyter.widget-view+json": {
       "model_id": "2438b0b420304a54b12d820097f5a427",
       "version_major": 2,
       "version_minor": 0
      },
      "text/plain": [
       "Render HTML:   0%|          | 0/1 [00:00<?, ?it/s]"
      ]
     },
     "metadata": {},
     "output_type": "display_data"
    },
    {
     "data": {
      "application/vnd.jupyter.widget-view+json": {
       "model_id": "08ebf00da6ed4703a05534aaabce8db3",
       "version_major": 2,
       "version_minor": 0
      },
      "text/plain": [
       "Export report to file:   0%|          | 0/1 [00:00<?, ?it/s]"
      ]
     },
     "metadata": {},
     "output_type": "display_data"
    }
   ],
   "source": [
    "ProfileReport(deliveries, title='IPL Deliveries Report', explorative=True).to_file(\"deliveries_report.html\")"
   ]
  },
  {
   "cell_type": "markdown",
   "metadata": {},
   "source": [
    "# data cleaning for matches"
   ]
  },
  {
   "cell_type": "code",
   "execution_count": null,
   "metadata": {},
   "outputs": [],
   "source": [
    "matches.drop(['id'],axis=1,inplace=True)"
   ]
  },
  {
   "cell_type": "code",
   "execution_count": null,
   "metadata": {},
   "outputs": [],
   "source": [
    "matches_per_season=matches.season.value_counts()"
   ]
  },
  {
   "cell_type": "markdown",
   "metadata": {},
   "source": [
    "- this is filling the city name from venue "
   ]
  },
  {
   "cell_type": "code",
   "execution_count": null,
   "metadata": {},
   "outputs": [],
   "source": [
    "matches['city'].fillna(matches[matches['city'].isna()]['venue'].apply(lambda x: x.split()[0]),inplace=True)"
   ]
  },
  {
   "cell_type": "code",
   "execution_count": null,
   "metadata": {},
   "outputs": [],
   "source": [
    "matches.drop(columns=['method'],inplace=True)"
   ]
  },
  {
   "cell_type": "code",
   "execution_count": null,
   "metadata": {},
   "outputs": [],
   "source": [
    "matches.drop(columns=['super_over'],inplace=True)\n"
   ]
  },
  {
   "cell_type": "code",
   "execution_count": null,
   "metadata": {},
   "outputs": [
    {
     "data": {
      "text/plain": [
       "season             0\n",
       "city               0\n",
       "date               0\n",
       "match_type         0\n",
       "player_of_match    0\n",
       "venue              0\n",
       "team1              0\n",
       "team2              0\n",
       "toss_winner        0\n",
       "toss_decision      0\n",
       "winner             0\n",
       "result             0\n",
       "result_margin      0\n",
       "target_runs        0\n",
       "target_overs       0\n",
       "umpire1            0\n",
       "umpire2            0\n",
       "dtype: int64"
      ]
     },
     "execution_count": 5,
     "metadata": {},
     "output_type": "execute_result"
    }
   ],
   "source": [
    "matches.isna().sum()"
   ]
  },
  {
   "cell_type": "code",
   "execution_count": null,
   "metadata": {},
   "outputs": [],
   "source": []
  },
  {
   "cell_type": "code",
   "execution_count": null,
   "metadata": {},
   "outputs": [],
   "source": [
    "matches['player_of_match'].fillna('No player',inplace=True)"
   ]
  },
  {
   "cell_type": "code",
   "execution_count": null,
   "metadata": {},
   "outputs": [
    {
     "name": "stderr",
     "output_type": "stream",
     "text": [
      "/var/folders/ct/586vcml54jgf9dlg8gh73lq40000gn/T/ipykernel_90542/3169814262.py:1: FutureWarning: A value is trying to be set on a copy of a DataFrame or Series through chained assignment using an inplace method.\n",
      "The behavior will change in pandas 3.0. This inplace method will never work because the intermediate object on which we are setting values always behaves as a copy.\n",
      "\n",
      "For example, when doing 'df[col].method(value, inplace=True)', try using 'df.method({col: value}, inplace=True)' or df[col] = df[col].method(value) instead, to perform the operation inplace on the original object.\n",
      "\n",
      "\n",
      "  matches['winner'].fillna('No winner',inplace=True)\n"
     ]
    }
   ],
   "source": [
    "matches['winner'].fillna('No winner',inplace=True) "
   ]
  },
  {
   "cell_type": "code",
   "execution_count": null,
   "metadata": {},
   "outputs": [
    {
     "name": "stderr",
     "output_type": "stream",
     "text": [
      "/var/folders/ct/586vcml54jgf9dlg8gh73lq40000gn/T/ipykernel_90542/3114644442.py:1: FutureWarning: A value is trying to be set on a copy of a DataFrame or Series through chained assignment using an inplace method.\n",
      "The behavior will change in pandas 3.0. This inplace method will never work because the intermediate object on which we are setting values always behaves as a copy.\n",
      "\n",
      "For example, when doing 'df[col].method(value, inplace=True)', try using 'df.method({col: value}, inplace=True)' or df[col] = df[col].method(value) instead, to perform the operation inplace on the original object.\n",
      "\n",
      "\n",
      "  matches['target_runs'].fillna(0,inplace=True)\n",
      "/var/folders/ct/586vcml54jgf9dlg8gh73lq40000gn/T/ipykernel_90542/3114644442.py:2: FutureWarning: A value is trying to be set on a copy of a DataFrame or Series through chained assignment using an inplace method.\n",
      "The behavior will change in pandas 3.0. This inplace method will never work because the intermediate object on which we are setting values always behaves as a copy.\n",
      "\n",
      "For example, when doing 'df[col].method(value, inplace=True)', try using 'df.method({col: value}, inplace=True)' or df[col] = df[col].method(value) instead, to perform the operation inplace on the original object.\n",
      "\n",
      "\n",
      "  matches['target_overs'].fillna(0,inplace=True)\n"
     ]
    }
   ],
   "source": [
    "matches['target_runs'].fillna(0,inplace=True)\n",
    "matches['target_overs'].fillna(0,inplace=True)"
   ]
  },
  {
   "cell_type": "code",
   "execution_count": null,
   "metadata": {},
   "outputs": [
    {
     "name": "stderr",
     "output_type": "stream",
     "text": [
      "/var/folders/ct/586vcml54jgf9dlg8gh73lq40000gn/T/ipykernel_90542/3944942953.py:1: FutureWarning: A value is trying to be set on a copy of a DataFrame or Series through chained assignment using an inplace method.\n",
      "The behavior will change in pandas 3.0. This inplace method will never work because the intermediate object on which we are setting values always behaves as a copy.\n",
      "\n",
      "For example, when doing 'df[col].method(value, inplace=True)', try using 'df.method({col: value}, inplace=True)' or df[col] = df[col].method(value) instead, to perform the operation inplace on the original object.\n",
      "\n",
      "\n",
      "  matches['result_margin'].fillna(-1,inplace=True)\n"
     ]
    }
   ],
   "source": [
    "matches['result_margin'].fillna(-1,inplace=True)"
   ]
  },
  {
   "cell_type": "code",
   "execution_count": null,
   "metadata": {},
   "outputs": [],
   "source": [
    "matches.to_csv('matches.csv',index=False)"
   ]
  },
  {
   "cell_type": "markdown",
   "metadata": {},
   "source": [
    "# Data Cleaning for Deliveries "
   ]
  },
  {
   "cell_type": "code",
   "execution_count": null,
   "metadata": {},
   "outputs": [
    {
     "data": {
      "text/plain": [
       "match_id            0\n",
       "inning              0\n",
       "batting_team        0\n",
       "bowling_team        0\n",
       "over                0\n",
       "ball                0\n",
       "batter              0\n",
       "bowler              0\n",
       "non_striker         0\n",
       "batsman_runs        0\n",
       "extra_runs          0\n",
       "total_runs          0\n",
       "is_wicket           0\n",
       "player_dismissed    0\n",
       "dismissal_kind      0\n",
       "fielder             0\n",
       "dtype: int64"
      ]
     },
     "execution_count": 20,
     "metadata": {},
     "output_type": "execute_result"
    }
   ],
   "source": [
    "deliveries.isna().sum()"
   ]
  },
  {
   "cell_type": "code",
   "execution_count": null,
   "metadata": {},
   "outputs": [
    {
     "data": {
      "text/html": [
       "<div>\n",
       "<style scoped>\n",
       "    .dataframe tbody tr th:only-of-type {\n",
       "        vertical-align: middle;\n",
       "    }\n",
       "\n",
       "    .dataframe tbody tr th {\n",
       "        vertical-align: top;\n",
       "    }\n",
       "\n",
       "    .dataframe thead th {\n",
       "        text-align: right;\n",
       "    }\n",
       "</style>\n",
       "<table border=\"1\" class=\"dataframe\">\n",
       "  <thead>\n",
       "    <tr style=\"text-align: right;\">\n",
       "      <th></th>\n",
       "      <th>match_id</th>\n",
       "      <th>inning</th>\n",
       "      <th>batting_team</th>\n",
       "      <th>bowling_team</th>\n",
       "      <th>over</th>\n",
       "      <th>ball</th>\n",
       "      <th>batter</th>\n",
       "      <th>bowler</th>\n",
       "      <th>non_striker</th>\n",
       "      <th>batsman_runs</th>\n",
       "      <th>extra_runs</th>\n",
       "      <th>total_runs</th>\n",
       "      <th>is_wicket</th>\n",
       "      <th>player_dismissed</th>\n",
       "      <th>dismissal_kind</th>\n",
       "      <th>fielder</th>\n",
       "    </tr>\n",
       "  </thead>\n",
       "  <tbody>\n",
       "    <tr>\n",
       "      <th>196010</th>\n",
       "      <td>1254067</td>\n",
       "      <td>2</td>\n",
       "      <td>Kolkata Knight Riders</td>\n",
       "      <td>Royal Challengers Bangalore</td>\n",
       "      <td>11</td>\n",
       "      <td>2</td>\n",
       "      <td>EJG Morgan</td>\n",
       "      <td>HV Patel</td>\n",
       "      <td>Shakib Al Hasan</td>\n",
       "      <td>0</td>\n",
       "      <td>0</td>\n",
       "      <td>0</td>\n",
       "      <td>0</td>\n",
       "      <td>NaN</td>\n",
       "      <td>NaN</td>\n",
       "      <td>NaN</td>\n",
       "    </tr>\n",
       "    <tr>\n",
       "      <th>154053</th>\n",
       "      <td>1136576</td>\n",
       "      <td>1</td>\n",
       "      <td>Kings XI Punjab</td>\n",
       "      <td>Sunrisers Hyderabad</td>\n",
       "      <td>12</td>\n",
       "      <td>2</td>\n",
       "      <td>KK Nair</td>\n",
       "      <td>CJ Jordan</td>\n",
       "      <td>CH Gayle</td>\n",
       "      <td>1</td>\n",
       "      <td>0</td>\n",
       "      <td>1</td>\n",
       "      <td>0</td>\n",
       "      <td>NaN</td>\n",
       "      <td>NaN</td>\n",
       "      <td>NaN</td>\n",
       "    </tr>\n",
       "    <tr>\n",
       "      <th>165894</th>\n",
       "      <td>1175360</td>\n",
       "      <td>2</td>\n",
       "      <td>Chennai Super Kings</td>\n",
       "      <td>Delhi Capitals</td>\n",
       "      <td>11</td>\n",
       "      <td>1</td>\n",
       "      <td>MS Dhoni</td>\n",
       "      <td>KMA Paul</td>\n",
       "      <td>KM Jadhav</td>\n",
       "      <td>0</td>\n",
       "      <td>0</td>\n",
       "      <td>0</td>\n",
       "      <td>0</td>\n",
       "      <td>NaN</td>\n",
       "      <td>NaN</td>\n",
       "      <td>NaN</td>\n",
       "    </tr>\n",
       "    <tr>\n",
       "      <th>165119</th>\n",
       "      <td>1175357</td>\n",
       "      <td>2</td>\n",
       "      <td>Kolkata Knight Riders</td>\n",
       "      <td>Sunrisers Hyderabad</td>\n",
       "      <td>6</td>\n",
       "      <td>1</td>\n",
       "      <td>N Rana</td>\n",
       "      <td>S Kaul</td>\n",
       "      <td>RV Uthappa</td>\n",
       "      <td>0</td>\n",
       "      <td>0</td>\n",
       "      <td>0</td>\n",
       "      <td>0</td>\n",
       "      <td>NaN</td>\n",
       "      <td>NaN</td>\n",
       "      <td>NaN</td>\n",
       "    </tr>\n",
       "    <tr>\n",
       "      <th>74639</th>\n",
       "      <td>548374</td>\n",
       "      <td>2</td>\n",
       "      <td>Delhi Daredevils</td>\n",
       "      <td>Kings XI Punjab</td>\n",
       "      <td>15</td>\n",
       "      <td>2</td>\n",
       "      <td>DPMD Jayawardene</td>\n",
       "      <td>P Awana</td>\n",
       "      <td>Y Venugopal Rao</td>\n",
       "      <td>0</td>\n",
       "      <td>0</td>\n",
       "      <td>0</td>\n",
       "      <td>0</td>\n",
       "      <td>NaN</td>\n",
       "      <td>NaN</td>\n",
       "      <td>NaN</td>\n",
       "    </tr>\n",
       "  </tbody>\n",
       "</table>\n",
       "</div>"
      ],
      "text/plain": [
       "        match_id  inning           batting_team                 bowling_team  \\\n",
       "196010   1254067       2  Kolkata Knight Riders  Royal Challengers Bangalore   \n",
       "154053   1136576       1        Kings XI Punjab          Sunrisers Hyderabad   \n",
       "165894   1175360       2    Chennai Super Kings               Delhi Capitals   \n",
       "165119   1175357       2  Kolkata Knight Riders          Sunrisers Hyderabad   \n",
       "74639     548374       2       Delhi Daredevils              Kings XI Punjab   \n",
       "\n",
       "        over  ball            batter     bowler      non_striker  \\\n",
       "196010    11     2        EJG Morgan   HV Patel  Shakib Al Hasan   \n",
       "154053    12     2           KK Nair  CJ Jordan         CH Gayle   \n",
       "165894    11     1          MS Dhoni   KMA Paul        KM Jadhav   \n",
       "165119     6     1            N Rana     S Kaul       RV Uthappa   \n",
       "74639     15     2  DPMD Jayawardene    P Awana  Y Venugopal Rao   \n",
       "\n",
       "        batsman_runs  extra_runs  total_runs  is_wicket player_dismissed  \\\n",
       "196010             0           0           0          0              NaN   \n",
       "154053             1           0           1          0              NaN   \n",
       "165894             0           0           0          0              NaN   \n",
       "165119             0           0           0          0              NaN   \n",
       "74639              0           0           0          0              NaN   \n",
       "\n",
       "       dismissal_kind fielder  \n",
       "196010            NaN     NaN  \n",
       "154053            NaN     NaN  \n",
       "165894            NaN     NaN  \n",
       "165119            NaN     NaN  \n",
       "74639             NaN     NaN  "
      ]
     },
     "execution_count": 15,
     "metadata": {},
     "output_type": "execute_result"
    }
   ],
   "source": [
    "deliveries.sample(5)"
   ]
  },
  {
   "cell_type": "code",
   "execution_count": null,
   "metadata": {},
   "outputs": [],
   "source": [
    "deliveries.drop(columns=['extras_type'],inplace=True)"
   ]
  },
  {
   "cell_type": "code",
   "execution_count": null,
   "metadata": {},
   "outputs": [
    {
     "name": "stderr",
     "output_type": "stream",
     "text": [
      "/var/folders/ct/586vcml54jgf9dlg8gh73lq40000gn/T/ipykernel_8775/2626853015.py:2: FutureWarning: A value is trying to be set on a copy of a DataFrame or Series through chained assignment using an inplace method.\n",
      "The behavior will change in pandas 3.0. This inplace method will never work because the intermediate object on which we are setting values always behaves as a copy.\n",
      "\n",
      "For example, when doing 'df[col].method(value, inplace=True)', try using 'df.method({col: value}, inplace=True)' or df[col] = df[col].method(value) instead, to perform the operation inplace on the original object.\n",
      "\n",
      "\n",
      "  deliveries['dismissal_kind'].fillna('No dismissal',inplace=True)\n"
     ]
    }
   ],
   "source": [
    "deliveries['player_dismissed'].fillna('No dismissal',inplace=True)\n",
    "deliveries['dismissal_kind'].fillna('No dismissal',inplace=True)\n",
    "deliveries['fielder'].fillna('No fielder',inplace=True)"
   ]
  },
  {
   "cell_type": "code",
   "execution_count": null,
   "metadata": {},
   "outputs": [
    {
     "data": {
      "text/html": [
       "<div>\n",
       "<style scoped>\n",
       "    .dataframe tbody tr th:only-of-type {\n",
       "        vertical-align: middle;\n",
       "    }\n",
       "\n",
       "    .dataframe tbody tr th {\n",
       "        vertical-align: top;\n",
       "    }\n",
       "\n",
       "    .dataframe thead th {\n",
       "        text-align: right;\n",
       "    }\n",
       "</style>\n",
       "<table border=\"1\" class=\"dataframe\">\n",
       "  <thead>\n",
       "    <tr style=\"text-align: right;\">\n",
       "      <th></th>\n",
       "      <th>match_id</th>\n",
       "      <th>inning</th>\n",
       "      <th>batting_team</th>\n",
       "      <th>bowling_team</th>\n",
       "      <th>over</th>\n",
       "      <th>ball</th>\n",
       "      <th>batter</th>\n",
       "      <th>bowler</th>\n",
       "      <th>non_striker</th>\n",
       "      <th>batsman_runs</th>\n",
       "      <th>extra_runs</th>\n",
       "      <th>total_runs</th>\n",
       "      <th>is_wicket</th>\n",
       "      <th>player_dismissed</th>\n",
       "      <th>dismissal_kind</th>\n",
       "      <th>fielder</th>\n",
       "    </tr>\n",
       "  </thead>\n",
       "  <tbody>\n",
       "    <tr>\n",
       "      <th>33</th>\n",
       "      <td>335982</td>\n",
       "      <td>1</td>\n",
       "      <td>Kolkata Knight Riders</td>\n",
       "      <td>Royal Challengers Bangalore</td>\n",
       "      <td>5</td>\n",
       "      <td>2</td>\n",
       "      <td>SC Ganguly</td>\n",
       "      <td>Z Khan</td>\n",
       "      <td>BB McCullum</td>\n",
       "      <td>0</td>\n",
       "      <td>0</td>\n",
       "      <td>0</td>\n",
       "      <td>1</td>\n",
       "      <td>SC Ganguly</td>\n",
       "      <td>caught</td>\n",
       "      <td>JH Kallis</td>\n",
       "    </tr>\n",
       "    <tr>\n",
       "      <th>74</th>\n",
       "      <td>335982</td>\n",
       "      <td>1</td>\n",
       "      <td>Kolkata Knight Riders</td>\n",
       "      <td>Royal Challengers Bangalore</td>\n",
       "      <td>12</td>\n",
       "      <td>1</td>\n",
       "      <td>RT Ponting</td>\n",
       "      <td>JH Kallis</td>\n",
       "      <td>BB McCullum</td>\n",
       "      <td>0</td>\n",
       "      <td>0</td>\n",
       "      <td>0</td>\n",
       "      <td>1</td>\n",
       "      <td>RT Ponting</td>\n",
       "      <td>caught</td>\n",
       "      <td>P Kumar</td>\n",
       "    </tr>\n",
       "    <tr>\n",
       "      <th>106</th>\n",
       "      <td>335982</td>\n",
       "      <td>1</td>\n",
       "      <td>Kolkata Knight Riders</td>\n",
       "      <td>Royal Challengers Bangalore</td>\n",
       "      <td>17</td>\n",
       "      <td>1</td>\n",
       "      <td>DJ Hussey</td>\n",
       "      <td>AA Noffke</td>\n",
       "      <td>BB McCullum</td>\n",
       "      <td>0</td>\n",
       "      <td>0</td>\n",
       "      <td>0</td>\n",
       "      <td>1</td>\n",
       "      <td>DJ Hussey</td>\n",
       "      <td>caught</td>\n",
       "      <td>CL White</td>\n",
       "    </tr>\n",
       "    <tr>\n",
       "      <th>154</th>\n",
       "      <td>335982</td>\n",
       "      <td>2</td>\n",
       "      <td>Royal Challengers Bangalore</td>\n",
       "      <td>Kolkata Knight Riders</td>\n",
       "      <td>4</td>\n",
       "      <td>5</td>\n",
       "      <td>JH Kallis</td>\n",
       "      <td>AB Agarkar</td>\n",
       "      <td>W Jaffer</td>\n",
       "      <td>0</td>\n",
       "      <td>0</td>\n",
       "      <td>0</td>\n",
       "      <td>1</td>\n",
       "      <td>JH Kallis</td>\n",
       "      <td>caught</td>\n",
       "      <td>M Kartik</td>\n",
       "    </tr>\n",
       "    <tr>\n",
       "      <th>157</th>\n",
       "      <td>335982</td>\n",
       "      <td>2</td>\n",
       "      <td>Royal Challengers Bangalore</td>\n",
       "      <td>Kolkata Knight Riders</td>\n",
       "      <td>5</td>\n",
       "      <td>2</td>\n",
       "      <td>W Jaffer</td>\n",
       "      <td>AB Dinda</td>\n",
       "      <td>CL White</td>\n",
       "      <td>0</td>\n",
       "      <td>0</td>\n",
       "      <td>0</td>\n",
       "      <td>1</td>\n",
       "      <td>W Jaffer</td>\n",
       "      <td>caught</td>\n",
       "      <td>RT Ponting</td>\n",
       "    </tr>\n",
       "    <tr>\n",
       "      <th>...</th>\n",
       "      <td>...</td>\n",
       "      <td>...</td>\n",
       "      <td>...</td>\n",
       "      <td>...</td>\n",
       "      <td>...</td>\n",
       "      <td>...</td>\n",
       "      <td>...</td>\n",
       "      <td>...</td>\n",
       "      <td>...</td>\n",
       "      <td>...</td>\n",
       "      <td>...</td>\n",
       "      <td>...</td>\n",
       "      <td>...</td>\n",
       "      <td>...</td>\n",
       "      <td>...</td>\n",
       "      <td>...</td>\n",
       "    </tr>\n",
       "    <tr>\n",
       "      <th>260802</th>\n",
       "      <td>1426312</td>\n",
       "      <td>1</td>\n",
       "      <td>Sunrisers Hyderabad</td>\n",
       "      <td>Kolkata Knight Riders</td>\n",
       "      <td>10</td>\n",
       "      <td>2</td>\n",
       "      <td>AK Markram</td>\n",
       "      <td>AD Russell</td>\n",
       "      <td>H Klaasen</td>\n",
       "      <td>0</td>\n",
       "      <td>0</td>\n",
       "      <td>0</td>\n",
       "      <td>1</td>\n",
       "      <td>AK Markram</td>\n",
       "      <td>caught</td>\n",
       "      <td>MA Starc</td>\n",
       "    </tr>\n",
       "    <tr>\n",
       "      <th>260811</th>\n",
       "      <td>1426312</td>\n",
       "      <td>1</td>\n",
       "      <td>Sunrisers Hyderabad</td>\n",
       "      <td>Kolkata Knight Riders</td>\n",
       "      <td>11</td>\n",
       "      <td>5</td>\n",
       "      <td>Shahbaz Ahmed</td>\n",
       "      <td>CV Varun</td>\n",
       "      <td>H Klaasen</td>\n",
       "      <td>0</td>\n",
       "      <td>0</td>\n",
       "      <td>0</td>\n",
       "      <td>1</td>\n",
       "      <td>Shahbaz Ahmed</td>\n",
       "      <td>caught</td>\n",
       "      <td>SP Narine</td>\n",
       "    </tr>\n",
       "    <tr>\n",
       "      <th>260817</th>\n",
       "      <td>1426312</td>\n",
       "      <td>1</td>\n",
       "      <td>Sunrisers Hyderabad</td>\n",
       "      <td>Kolkata Knight Riders</td>\n",
       "      <td>12</td>\n",
       "      <td>5</td>\n",
       "      <td>Abdul Samad</td>\n",
       "      <td>AD Russell</td>\n",
       "      <td>H Klaasen</td>\n",
       "      <td>0</td>\n",
       "      <td>0</td>\n",
       "      <td>0</td>\n",
       "      <td>1</td>\n",
       "      <td>Abdul Samad</td>\n",
       "      <td>caught</td>\n",
       "      <td>Rahmanullah Gurbaz</td>\n",
       "    </tr>\n",
       "    <tr>\n",
       "      <th>260852</th>\n",
       "      <td>1426312</td>\n",
       "      <td>1</td>\n",
       "      <td>Sunrisers Hyderabad</td>\n",
       "      <td>Kolkata Knight Riders</td>\n",
       "      <td>18</td>\n",
       "      <td>3</td>\n",
       "      <td>PJ Cummins</td>\n",
       "      <td>AD Russell</td>\n",
       "      <td>B Kumar</td>\n",
       "      <td>0</td>\n",
       "      <td>0</td>\n",
       "      <td>0</td>\n",
       "      <td>1</td>\n",
       "      <td>PJ Cummins</td>\n",
       "      <td>caught</td>\n",
       "      <td>MA Starc</td>\n",
       "    </tr>\n",
       "    <tr>\n",
       "      <th>260861</th>\n",
       "      <td>1426312</td>\n",
       "      <td>2</td>\n",
       "      <td>Kolkata Knight Riders</td>\n",
       "      <td>Sunrisers Hyderabad</td>\n",
       "      <td>1</td>\n",
       "      <td>2</td>\n",
       "      <td>SP Narine</td>\n",
       "      <td>PJ Cummins</td>\n",
       "      <td>Rahmanullah Gurbaz</td>\n",
       "      <td>0</td>\n",
       "      <td>0</td>\n",
       "      <td>0</td>\n",
       "      <td>1</td>\n",
       "      <td>SP Narine</td>\n",
       "      <td>caught</td>\n",
       "      <td>Shahbaz Ahmed</td>\n",
       "    </tr>\n",
       "  </tbody>\n",
       "</table>\n",
       "<p>9354 rows × 16 columns</p>\n",
       "</div>"
      ],
      "text/plain": [
       "        match_id  inning                 batting_team  \\\n",
       "33        335982       1        Kolkata Knight Riders   \n",
       "74        335982       1        Kolkata Knight Riders   \n",
       "106       335982       1        Kolkata Knight Riders   \n",
       "154       335982       2  Royal Challengers Bangalore   \n",
       "157       335982       2  Royal Challengers Bangalore   \n",
       "...          ...     ...                          ...   \n",
       "260802   1426312       1          Sunrisers Hyderabad   \n",
       "260811   1426312       1          Sunrisers Hyderabad   \n",
       "260817   1426312       1          Sunrisers Hyderabad   \n",
       "260852   1426312       1          Sunrisers Hyderabad   \n",
       "260861   1426312       2        Kolkata Knight Riders   \n",
       "\n",
       "                       bowling_team  over  ball         batter      bowler  \\\n",
       "33      Royal Challengers Bangalore     5     2     SC Ganguly      Z Khan   \n",
       "74      Royal Challengers Bangalore    12     1     RT Ponting   JH Kallis   \n",
       "106     Royal Challengers Bangalore    17     1      DJ Hussey   AA Noffke   \n",
       "154           Kolkata Knight Riders     4     5      JH Kallis  AB Agarkar   \n",
       "157           Kolkata Knight Riders     5     2       W Jaffer    AB Dinda   \n",
       "...                             ...   ...   ...            ...         ...   \n",
       "260802        Kolkata Knight Riders    10     2     AK Markram  AD Russell   \n",
       "260811        Kolkata Knight Riders    11     5  Shahbaz Ahmed    CV Varun   \n",
       "260817        Kolkata Knight Riders    12     5    Abdul Samad  AD Russell   \n",
       "260852        Kolkata Knight Riders    18     3     PJ Cummins  AD Russell   \n",
       "260861          Sunrisers Hyderabad     1     2      SP Narine  PJ Cummins   \n",
       "\n",
       "               non_striker  batsman_runs  extra_runs  total_runs  is_wicket  \\\n",
       "33             BB McCullum             0           0           0          1   \n",
       "74             BB McCullum             0           0           0          1   \n",
       "106            BB McCullum             0           0           0          1   \n",
       "154               W Jaffer             0           0           0          1   \n",
       "157               CL White             0           0           0          1   \n",
       "...                    ...           ...         ...         ...        ...   \n",
       "260802           H Klaasen             0           0           0          1   \n",
       "260811           H Klaasen             0           0           0          1   \n",
       "260817           H Klaasen             0           0           0          1   \n",
       "260852             B Kumar             0           0           0          1   \n",
       "260861  Rahmanullah Gurbaz             0           0           0          1   \n",
       "\n",
       "       player_dismissed dismissal_kind             fielder  \n",
       "33           SC Ganguly         caught           JH Kallis  \n",
       "74           RT Ponting         caught             P Kumar  \n",
       "106           DJ Hussey         caught            CL White  \n",
       "154           JH Kallis         caught            M Kartik  \n",
       "157            W Jaffer         caught          RT Ponting  \n",
       "...                 ...            ...                 ...  \n",
       "260802       AK Markram         caught            MA Starc  \n",
       "260811    Shahbaz Ahmed         caught           SP Narine  \n",
       "260817      Abdul Samad         caught  Rahmanullah Gurbaz  \n",
       "260852       PJ Cummins         caught            MA Starc  \n",
       "260861        SP Narine         caught       Shahbaz Ahmed  \n",
       "\n",
       "[9354 rows x 16 columns]"
      ]
     },
     "execution_count": 16,
     "metadata": {},
     "output_type": "execute_result"
    }
   ],
   "source": [
    "deliveries[~deliveries['fielder'].isna()]"
   ]
  },
  {
   "cell_type": "code",
   "execution_count": null,
   "metadata": {},
   "outputs": [],
   "source": [
    "deliveries.to_csv('deliveries.csv',index=False)"
   ]
  },
  {
   "cell_type": "markdown",
   "metadata": {},
   "source": [
    "# Encoding of Data"
   ]
  },
  {
   "cell_type": "code",
   "execution_count": 12,
   "metadata": {},
   "outputs": [],
   "source": [
    "from sklearn.preprocessing import OrdinalEncoder"
   ]
  },
  {
   "cell_type": "code",
   "execution_count": null,
   "metadata": {},
   "outputs": [
    {
     "data": {
      "text/plain": [
       "match_type\n",
       "League        1029\n",
       "Qualifier       28\n",
       "Eliminator      21\n",
       "Final           17\n",
       "Name: count, dtype: int64"
      ]
     },
     "execution_count": 54,
     "metadata": {},
     "output_type": "execute_result"
    }
   ],
   "source": [
    "matches['match_type'].value_counts()"
   ]
  },
  {
   "cell_type": "code",
   "execution_count": null,
   "metadata": {},
   "outputs": [],
   "source": [
    "matches.loc[matches['match_type'] == 'Qualifier 1', 'match_type'] = 'Qualifier'\n",
    "matches.loc[matches['match_type'] == 'Qualifier 2', 'match_type'] = 'Qualifier'"
   ]
  },
  {
   "cell_type": "code",
   "execution_count": null,
   "metadata": {},
   "outputs": [],
   "source": [
    "matches.loc[matches['match_type'] == 'Elimination Final', 'match_type'] = 'Eliminator'"
   ]
  },
  {
   "cell_type": "code",
   "execution_count": null,
   "metadata": {},
   "outputs": [],
   "source": [
    "matches.loc[matches['match_type']=='Semi Final', 'match_type']='Eliminator'\n",
    "matches.loc[matches['match_type']=='3rd Place Play-Off', 'match_type']='Eliminator'"
   ]
  },
  {
   "cell_type": "code",
   "execution_count": 6,
   "metadata": {},
   "outputs": [],
   "source": [
    "from sklearn.compose import ColumnTransformer\n",
    "from sklearn.pipeline import make_pipeline"
   ]
  },
  {
   "cell_type": "code",
   "execution_count": null,
   "metadata": {},
   "outputs": [],
   "source": [
    "matches.drop(columns=['city'],inplace=True)"
   ]
  },
  {
   "cell_type": "code",
   "execution_count": 8,
   "metadata": {},
   "outputs": [],
   "source": [
    "from sklearn.preprocessing import OneHotEncoder"
   ]
  },
  {
   "cell_type": "code",
   "execution_count": 9,
   "metadata": {},
   "outputs": [],
   "source": [
    "from sklearn.preprocessing import LabelEncoder"
   ]
  },
  {
   "cell_type": "code",
   "execution_count": 10,
   "metadata": {},
   "outputs": [],
   "source": [
    "from sklearn.preprocessing import KBinsDiscretizer\n"
   ]
  },
  {
   "cell_type": "code",
   "execution_count": 32,
   "metadata": {},
   "outputs": [],
   "source": [
    "toss_decision_encoder=LabelEncoder()\n",
    "result_encoder=LabelEncoder()\n",
    "team_encoder=OneHotEncoder(sparse_output=False,drop='first')\n",
    "target_runs_encoder=LabelEncoder()\n",
    "target_overs_encoder=LabelEncoder()\n",
    "match_type_encoder=OrdinalEncoder(categories=[['League','Eliminator','Quilifier','Final']],unknown_value='ignore')\n",
    "venue_encoder=OneHotEncoder(sparse_output=False,drop='first')\n",
    "umpire_encoder=LabelEncoder()\n",
    "result_binning=KBinsDiscretizer(n_bins=5,encode='ordinal',strategy='kmeans')\n",
    "bins = [0, 1000, 3000, 5000]  \n",
    "run_bins = KBinsDiscretizer(n_bins=len(bins) - 1, encode='ordinal', strategy='uniform')\n",
    "bins=[0,10,20,30]\n",
    "batting_avg_bins=KBinsDiscretizer(n_bins=len(bins) - 1, encode='ordinal', strategy='uniform')\n",
    "bowling_avg_bins = KBinsDiscretizer(n_bins=5, encode='ordinal', strategy='quantile')\n",
    "bins=[0,30,60,100,150]\n",
    "wickets_bins=KBinsDiscretizer(n_bins=len(bins) - 1, encode='ordinal', strategy='uniform')\n",
    "\n"
   ]
  },
  {
   "cell_type": "code",
   "execution_count": null,
   "metadata": {},
   "outputs": [],
   "source": [
    "plt.figure(figsize=(20,10))\n",
    "sns.histplot(matches['runs'],bins=10)\n",
    "plt.show()"
   ]
  },
  {
   "cell_type": "code",
   "execution_count": null,
   "metadata": {},
   "outputs": [],
   "source": [
    "plt.figure(figsize=(20,10))\n",
    "sns.histplot(matches['batting_avg'],bins=10)\n",
    "plt.show()"
   ]
  },
  {
   "cell_type": "code",
   "execution_count": 115,
   "metadata": {},
   "outputs": [
    {
     "data": {
      "image/png": "[encoded data removed]",
      "text/plain": [
       "<Figure size 2000x1000 with 1 Axes>"
      ]
     },
     "metadata": {},
     "output_type": "display_data"
    }
   ],
   "source": [
    "plt.figure(figsize=(20,10))\n",
    "sns.histplot(matches['wickets'],bins=10)\n",
    "plt.show()"
   ]
  },
  {
   "cell_type": "code",
   "execution_count": null,
   "metadata": {},
   "outputs": [],
   "source": [
    "matches['bowling_avg'].fillna(matches['bowling_avg'].max(),inplace=True)"
   ]
  },
  {
   "cell_type": "code",
   "execution_count": null,
   "metadata": {},
   "outputs": [],
   "source": []
  },
  {
   "cell_type": "code",
   "execution_count": 114,
   "metadata": {},
   "outputs": [
    {
     "data": {
      "image/png": "[encoded data removed]",
      "text/plain": [
       "<Figure size 2000x1000 with 1 Axes>"
      ]
     },
     "metadata": {},
     "output_type": "display_data"
    }
   ],
   "source": [
    "plt.figure(figsize=(20,10))\n",
    "sns.histplot(matches['bowling_avg'],bins=50)\n",
    "plt.show()"
   ]
  },
  {
   "cell_type": "code",
   "execution_count": null,
   "metadata": {},
   "outputs": [],
   "source": [
    "matches.drop(columns=['player_of_match'],inplace=True)"
   ]
  },
  {
   "cell_type": "code",
   "execution_count": 121,
   "metadata": {},
   "outputs": [],
   "source": [
    "matches.drop(columns=['date'],inplace=True)"
   ]
  },
  {
   "cell_type": "code",
   "execution_count": 122,
   "metadata": {},
   "outputs": [],
   "source": [
    "matches.drop(columns=['result_margin'],inplace=True)"
   ]
  },
  {
   "cell_type": "code",
   "execution_count": 120,
   "metadata": {},
   "outputs": [
    {
     "data": {
      "text/html": [
       "<div>\n",
       "<style scoped>\n",
       "    .dataframe tbody tr th:only-of-type {\n",
       "        vertical-align: middle;\n",
       "    }\n",
       "\n",
       "    .dataframe tbody tr th {\n",
       "        vertical-align: top;\n",
       "    }\n",
       "\n",
       "    .dataframe thead th {\n",
       "        text-align: right;\n",
       "    }\n",
       "</style>\n",
       "<table border=\"1\" class=\"dataframe\">\n",
       "  <thead>\n",
       "    <tr style=\"text-align: right;\">\n",
       "      <th></th>\n",
       "      <th>season</th>\n",
       "      <th>date</th>\n",
       "      <th>match_type</th>\n",
       "      <th>venue</th>\n",
       "      <th>team1</th>\n",
       "      <th>team2</th>\n",
       "      <th>toss_winner</th>\n",
       "      <th>toss_decision</th>\n",
       "      <th>winner</th>\n",
       "      <th>result</th>\n",
       "      <th>result_margin</th>\n",
       "      <th>target_runs</th>\n",
       "      <th>target_overs</th>\n",
       "      <th>umpire1</th>\n",
       "      <th>umpire2</th>\n",
       "      <th>batting_avg</th>\n",
       "      <th>runs</th>\n",
       "      <th>bowling_avg</th>\n",
       "      <th>wickets</th>\n",
       "    </tr>\n",
       "  </thead>\n",
       "  <tbody>\n",
       "    <tr>\n",
       "      <th>269</th>\n",
       "      <td>2012</td>\n",
       "      <td>2012-04-18</td>\n",
       "      <td>League</td>\n",
       "      <td>Punjab Cricket Association Stadium, Mohali</td>\n",
       "      <td>Kings XI Punjab</td>\n",
       "      <td>Kolkata Knight Riders</td>\n",
       "      <td>Kings XI Punjab</td>\n",
       "      <td>bat</td>\n",
       "      <td>Kolkata Knight Riders</td>\n",
       "      <td>wickets</td>\n",
       "      <td>8.0</td>\n",
       "      <td>125.0</td>\n",
       "      <td>20.0</td>\n",
       "      <td>JD Cloete</td>\n",
       "      <td>RJ Tucker</td>\n",
       "      <td>27.93</td>\n",
       "      <td>4217.0</td>\n",
       "      <td>0.00</td>\n",
       "      <td>0.0</td>\n",
       "    </tr>\n",
       "    <tr>\n",
       "      <th>494</th>\n",
       "      <td>2015</td>\n",
       "      <td>2015-05-04</td>\n",
       "      <td>League</td>\n",
       "      <td>Eden Gardens</td>\n",
       "      <td>Kolkata Knight Riders</td>\n",
       "      <td>Sunrisers Hyderabad</td>\n",
       "      <td>Sunrisers Hyderabad</td>\n",
       "      <td>field</td>\n",
       "      <td>Kolkata Knight Riders</td>\n",
       "      <td>runs</td>\n",
       "      <td>35.0</td>\n",
       "      <td>168.0</td>\n",
       "      <td>20.0</td>\n",
       "      <td>AK Chaudhary</td>\n",
       "      <td>M Erasmus</td>\n",
       "      <td>1.34</td>\n",
       "      <td>177.0</td>\n",
       "      <td>29.93</td>\n",
       "      <td>135.0</td>\n",
       "    </tr>\n",
       "    <tr>\n",
       "      <th>195</th>\n",
       "      <td>2011</td>\n",
       "      <td>2011-04-20</td>\n",
       "      <td>League</td>\n",
       "      <td>Eden Gardens</td>\n",
       "      <td>Kolkata Knight Riders</td>\n",
       "      <td>Kochi Tuskers Kerala</td>\n",
       "      <td>Kolkata Knight Riders</td>\n",
       "      <td>field</td>\n",
       "      <td>Kochi Tuskers Kerala</td>\n",
       "      <td>runs</td>\n",
       "      <td>6.0</td>\n",
       "      <td>133.0</td>\n",
       "      <td>20.0</td>\n",
       "      <td>Aleem Dar</td>\n",
       "      <td>RB Tiffin</td>\n",
       "      <td>23.18</td>\n",
       "      <td>1808.0</td>\n",
       "      <td>0.00</td>\n",
       "      <td>0.0</td>\n",
       "    </tr>\n",
       "    <tr>\n",
       "      <th>287</th>\n",
       "      <td>2012</td>\n",
       "      <td>2012-05-01</td>\n",
       "      <td>League</td>\n",
       "      <td>Barabati Stadium</td>\n",
       "      <td>Deccan Chargers</td>\n",
       "      <td>Pune Warriors</td>\n",
       "      <td>Deccan Chargers</td>\n",
       "      <td>bat</td>\n",
       "      <td>Deccan Chargers</td>\n",
       "      <td>runs</td>\n",
       "      <td>13.0</td>\n",
       "      <td>187.0</td>\n",
       "      <td>20.0</td>\n",
       "      <td>Aleem Dar</td>\n",
       "      <td>AK Chaudhary</td>\n",
       "      <td>24.81</td>\n",
       "      <td>1687.0</td>\n",
       "      <td>0.00</td>\n",
       "      <td>0.0</td>\n",
       "    </tr>\n",
       "    <tr>\n",
       "      <th>99</th>\n",
       "      <td>2009</td>\n",
       "      <td>2009-05-14</td>\n",
       "      <td>League</td>\n",
       "      <td>Kingsmead</td>\n",
       "      <td>Royal Challengers Bangalore</td>\n",
       "      <td>Chennai Super Kings</td>\n",
       "      <td>Chennai Super Kings</td>\n",
       "      <td>bat</td>\n",
       "      <td>Royal Challengers Bangalore</td>\n",
       "      <td>wickets</td>\n",
       "      <td>2.0</td>\n",
       "      <td>130.0</td>\n",
       "      <td>20.0</td>\n",
       "      <td>BR Doctrove</td>\n",
       "      <td>DJ Harper</td>\n",
       "      <td>18.83</td>\n",
       "      <td>1017.0</td>\n",
       "      <td>240000.00</td>\n",
       "      <td>0.0</td>\n",
       "    </tr>\n",
       "  </tbody>\n",
       "</table>\n",
       "</div>"
      ],
      "text/plain": [
       "    season        date match_type                                       venue  \\\n",
       "269   2012  2012-04-18     League  Punjab Cricket Association Stadium, Mohali   \n",
       "494   2015  2015-05-04     League                                Eden Gardens   \n",
       "195   2011  2011-04-20     League                                Eden Gardens   \n",
       "287   2012  2012-05-01     League                            Barabati Stadium   \n",
       "99    2009  2009-05-14     League                                   Kingsmead   \n",
       "\n",
       "                           team1                  team2  \\\n",
       "269              Kings XI Punjab  Kolkata Knight Riders   \n",
       "494        Kolkata Knight Riders    Sunrisers Hyderabad   \n",
       "195        Kolkata Knight Riders   Kochi Tuskers Kerala   \n",
       "287              Deccan Chargers          Pune Warriors   \n",
       "99   Royal Challengers Bangalore    Chennai Super Kings   \n",
       "\n",
       "               toss_winner toss_decision                       winner  \\\n",
       "269        Kings XI Punjab           bat        Kolkata Knight Riders   \n",
       "494    Sunrisers Hyderabad         field        Kolkata Knight Riders   \n",
       "195  Kolkata Knight Riders         field         Kochi Tuskers Kerala   \n",
       "287        Deccan Chargers           bat              Deccan Chargers   \n",
       "99     Chennai Super Kings           bat  Royal Challengers Bangalore   \n",
       "\n",
       "      result  result_margin  target_runs  target_overs       umpire1  \\\n",
       "269  wickets            8.0        125.0          20.0     JD Cloete   \n",
       "494     runs           35.0        168.0          20.0  AK Chaudhary   \n",
       "195     runs            6.0        133.0          20.0     Aleem Dar   \n",
       "287     runs           13.0        187.0          20.0     Aleem Dar   \n",
       "99   wickets            2.0        130.0          20.0   BR Doctrove   \n",
       "\n",
       "          umpire2  batting_avg    runs  bowling_avg  wickets  \n",
       "269     RJ Tucker        27.93  4217.0         0.00      0.0  \n",
       "494     M Erasmus         1.34   177.0        29.93    135.0  \n",
       "195     RB Tiffin        23.18  1808.0         0.00      0.0  \n",
       "287  AK Chaudhary        24.81  1687.0         0.00      0.0  \n",
       "99      DJ Harper        18.83  1017.0    240000.00      0.0  "
      ]
     },
     "execution_count": 120,
     "metadata": {},
     "output_type": "execute_result"
    }
   ],
   "source": [
    "matches.sample(5)"
   ]
  },
  {
   "cell_type": "code",
   "execution_count": 80,
   "metadata": {},
   "outputs": [],
   "source": [
    "matches[['batting_avg', 'bowling_avg', 'runs', 'wickets']] = matches[['batting_avg', 'bowling_avg', 'runs', 'wickets']].fillna(0)"
   ]
  },
  {
   "cell_type": "code",
   "execution_count": 34,
   "metadata": {},
   "outputs": [],
   "source": [
    "columnTransformer=ColumnTransformer([('match_type',match_type_encoder,['match_type']),\n",
    "                                    ['team',team_encoder,['team1','team2','toss_winner']],\n",
    "                                    ['toss_decision',toss_decision_encoder,['toss_decision']],\n",
    "                                    ['result',result_encoder,['result']],\n",
    "                                    ['target_runs',target_runs_encoder,['target_runs']],\n",
    "                                    ['target_overs',target_overs_encoder,['target_overs']],\n",
    "                                    ['venues',venue_encoder,['venue']],\n",
    "                                    ['umpires',umpire_encoder,['umpire1','umpire2']],\n",
    "                                    ['runs',run_bins,['runs']],\n",
    "                                    ['batting_avg',batting_avg_bins,['batting_avg']],\n",
    "                                    ['bowling_avg',bowling_avg_bins,['bowling_avg']],\n",
    "                                    ['wickets',wickets_bins,['wickets']]\n",
    "                                    ],remainder='passthrough')"
   ]
  },
  {
   "cell_type": "code",
   "execution_count": null,
   "metadata": {},
   "outputs": [
    {
     "data": {
      "text/plain": [
       "player_of_match\n",
       "AB de Villiers       25\n",
       "CH Gayle             22\n",
       "RG Sharma            19\n",
       "DA Warner            18\n",
       "V Kohli              18\n",
       "                     ..\n",
       "NV Ojha               1\n",
       "KV Sharma             1\n",
       "Washington Sundar     1\n",
       "PD Collingwood        1\n",
       "Shahbaz Ahmed         1\n",
       "Name: count, Length: 292, dtype: int64"
      ]
     },
     "execution_count": 19,
     "metadata": {},
     "output_type": "execute_result"
    }
   ],
   "source": [
    "matches.player_of_match.value_counts()"
   ]
  },
  {
   "cell_type": "code",
   "execution_count": 7,
   "metadata": {},
   "outputs": [],
   "source": [
    "players=pd.read_csv('IPL Player Stat.csv')"
   ]
  },
  {
   "cell_type": "code",
   "execution_count": null,
   "metadata": {},
   "outputs": [
    {
     "data": {
      "text/html": [
       "<div>\n",
       "<style scoped>\n",
       "    .dataframe tbody tr th:only-of-type {\n",
       "        vertical-align: middle;\n",
       "    }\n",
       "\n",
       "    .dataframe tbody tr th {\n",
       "        vertical-align: top;\n",
       "    }\n",
       "\n",
       "    .dataframe thead th {\n",
       "        text-align: right;\n",
       "    }\n",
       "</style>\n",
       "<table border=\"1\" class=\"dataframe\">\n",
       "  <thead>\n",
       "    <tr style=\"text-align: right;\">\n",
       "      <th></th>\n",
       "      <th>player</th>\n",
       "      <th>runs</th>\n",
       "      <th>boundaries</th>\n",
       "      <th>balls_faced</th>\n",
       "      <th>wickets</th>\n",
       "      <th>balls_bowled</th>\n",
       "      <th>runs_conceded</th>\n",
       "      <th>matches</th>\n",
       "      <th>batting_avg</th>\n",
       "      <th>batting_strike_rate</th>\n",
       "      <th>boundaries_percent</th>\n",
       "      <th>bowling_economy</th>\n",
       "      <th>bowling_avg</th>\n",
       "      <th>bowling_strike_rate</th>\n",
       "      <th>catches</th>\n",
       "      <th>stumpings</th>\n",
       "    </tr>\n",
       "  </thead>\n",
       "  <tbody>\n",
       "    <tr>\n",
       "      <th>0</th>\n",
       "      <td>A Ashish Reddy</td>\n",
       "      <td>280</td>\n",
       "      <td>31</td>\n",
       "      <td>196</td>\n",
       "      <td>18.0</td>\n",
       "      <td>270.0</td>\n",
       "      <td>400.0</td>\n",
       "      <td>28</td>\n",
       "      <td>10.00</td>\n",
       "      <td>142.86</td>\n",
       "      <td>15.82</td>\n",
       "      <td>8.89</td>\n",
       "      <td>22.22</td>\n",
       "      <td>15.00</td>\n",
       "      <td>8.0</td>\n",
       "      <td>0.0</td>\n",
       "    </tr>\n",
       "    <tr>\n",
       "      <th>1</th>\n",
       "      <td>A Badoni</td>\n",
       "      <td>161</td>\n",
       "      <td>18</td>\n",
       "      <td>139</td>\n",
       "      <td>2.0</td>\n",
       "      <td>12.0</td>\n",
       "      <td>12.0</td>\n",
       "      <td>11</td>\n",
       "      <td>14.64</td>\n",
       "      <td>115.83</td>\n",
       "      <td>12.95</td>\n",
       "      <td>6.00</td>\n",
       "      <td>6.00</td>\n",
       "      <td>6.00</td>\n",
       "      <td>8.0</td>\n",
       "      <td>0.0</td>\n",
       "    </tr>\n",
       "    <tr>\n",
       "      <th>2</th>\n",
       "      <td>A Chandila</td>\n",
       "      <td>4</td>\n",
       "      <td>0</td>\n",
       "      <td>7</td>\n",
       "      <td>11.0</td>\n",
       "      <td>234.0</td>\n",
       "      <td>245.0</td>\n",
       "      <td>12</td>\n",
       "      <td>0.33</td>\n",
       "      <td>57.14</td>\n",
       "      <td>0.00</td>\n",
       "      <td>6.28</td>\n",
       "      <td>22.27</td>\n",
       "      <td>21.27</td>\n",
       "      <td>2.0</td>\n",
       "      <td>0.0</td>\n",
       "    </tr>\n",
       "    <tr>\n",
       "      <th>3</th>\n",
       "      <td>A Chopra</td>\n",
       "      <td>53</td>\n",
       "      <td>7</td>\n",
       "      <td>75</td>\n",
       "      <td>0.0</td>\n",
       "      <td>0.0</td>\n",
       "      <td>0.0</td>\n",
       "      <td>6</td>\n",
       "      <td>8.83</td>\n",
       "      <td>70.67</td>\n",
       "      <td>9.33</td>\n",
       "      <td>0.00</td>\n",
       "      <td>0.00</td>\n",
       "      <td>0.00</td>\n",
       "      <td>2.0</td>\n",
       "      <td>0.0</td>\n",
       "    </tr>\n",
       "    <tr>\n",
       "      <th>4</th>\n",
       "      <td>A Choudhary</td>\n",
       "      <td>25</td>\n",
       "      <td>2</td>\n",
       "      <td>20</td>\n",
       "      <td>5.0</td>\n",
       "      <td>108.0</td>\n",
       "      <td>144.0</td>\n",
       "      <td>5</td>\n",
       "      <td>5.00</td>\n",
       "      <td>125.00</td>\n",
       "      <td>10.00</td>\n",
       "      <td>8.00</td>\n",
       "      <td>28.80</td>\n",
       "      <td>21.60</td>\n",
       "      <td>0.0</td>\n",
       "      <td>0.0</td>\n",
       "    </tr>\n",
       "    <tr>\n",
       "      <th>...</th>\n",
       "      <td>...</td>\n",
       "      <td>...</td>\n",
       "      <td>...</td>\n",
       "      <td>...</td>\n",
       "      <td>...</td>\n",
       "      <td>...</td>\n",
       "      <td>...</td>\n",
       "      <td>...</td>\n",
       "      <td>...</td>\n",
       "      <td>...</td>\n",
       "      <td>...</td>\n",
       "      <td>...</td>\n",
       "      <td>...</td>\n",
       "      <td>...</td>\n",
       "      <td>...</td>\n",
       "      <td>...</td>\n",
       "    </tr>\n",
       "    <tr>\n",
       "      <th>600</th>\n",
       "      <td>Yash Dayal</td>\n",
       "      <td>0</td>\n",
       "      <td>0</td>\n",
       "      <td>1</td>\n",
       "      <td>11.0</td>\n",
       "      <td>205.0</td>\n",
       "      <td>296.0</td>\n",
       "      <td>9</td>\n",
       "      <td>0.00</td>\n",
       "      <td>0.00</td>\n",
       "      <td>0.00</td>\n",
       "      <td>8.66</td>\n",
       "      <td>26.91</td>\n",
       "      <td>18.64</td>\n",
       "      <td>1.0</td>\n",
       "      <td>0.0</td>\n",
       "    </tr>\n",
       "    <tr>\n",
       "      <th>601</th>\n",
       "      <td>Yashpal Singh</td>\n",
       "      <td>47</td>\n",
       "      <td>5</td>\n",
       "      <td>67</td>\n",
       "      <td>0.0</td>\n",
       "      <td>0.0</td>\n",
       "      <td>0.0</td>\n",
       "      <td>4</td>\n",
       "      <td>11.75</td>\n",
       "      <td>70.15</td>\n",
       "      <td>7.46</td>\n",
       "      <td>0.00</td>\n",
       "      <td>0.00</td>\n",
       "      <td>0.00</td>\n",
       "      <td>3.0</td>\n",
       "      <td>0.0</td>\n",
       "    </tr>\n",
       "    <tr>\n",
       "      <th>602</th>\n",
       "      <td>Younis Khan</td>\n",
       "      <td>3</td>\n",
       "      <td>0</td>\n",
       "      <td>7</td>\n",
       "      <td>0.0</td>\n",
       "      <td>0.0</td>\n",
       "      <td>0.0</td>\n",
       "      <td>1</td>\n",
       "      <td>3.00</td>\n",
       "      <td>42.86</td>\n",
       "      <td>0.00</td>\n",
       "      <td>0.00</td>\n",
       "      <td>0.00</td>\n",
       "      <td>0.00</td>\n",
       "      <td>1.0</td>\n",
       "      <td>0.0</td>\n",
       "    </tr>\n",
       "    <tr>\n",
       "      <th>603</th>\n",
       "      <td>Yuvraj Singh</td>\n",
       "      <td>2754</td>\n",
       "      <td>367</td>\n",
       "      <td>2207</td>\n",
       "      <td>36.0</td>\n",
       "      <td>882.0</td>\n",
       "      <td>1091.0</td>\n",
       "      <td>129</td>\n",
       "      <td>21.35</td>\n",
       "      <td>124.78</td>\n",
       "      <td>16.63</td>\n",
       "      <td>7.42</td>\n",
       "      <td>30.31</td>\n",
       "      <td>24.50</td>\n",
       "      <td>29.0</td>\n",
       "      <td>0.0</td>\n",
       "    </tr>\n",
       "    <tr>\n",
       "      <th>604</th>\n",
       "      <td>Z Khan</td>\n",
       "      <td>117</td>\n",
       "      <td>13</td>\n",
       "      <td>141</td>\n",
       "      <td>102.0</td>\n",
       "      <td>2276.0</td>\n",
       "      <td>2860.0</td>\n",
       "      <td>99</td>\n",
       "      <td>1.18</td>\n",
       "      <td>82.98</td>\n",
       "      <td>9.22</td>\n",
       "      <td>7.54</td>\n",
       "      <td>28.04</td>\n",
       "      <td>22.31</td>\n",
       "      <td>20.0</td>\n",
       "      <td>0.0</td>\n",
       "    </tr>\n",
       "  </tbody>\n",
       "</table>\n",
       "<p>605 rows × 16 columns</p>\n",
       "</div>"
      ],
      "text/plain": [
       "             player  runs  boundaries  balls_faced  wickets  balls_bowled  \\\n",
       "0    A Ashish Reddy   280          31          196     18.0         270.0   \n",
       "1          A Badoni   161          18          139      2.0          12.0   \n",
       "2        A Chandila     4           0            7     11.0         234.0   \n",
       "3          A Chopra    53           7           75      0.0           0.0   \n",
       "4       A Choudhary    25           2           20      5.0         108.0   \n",
       "..              ...   ...         ...          ...      ...           ...   \n",
       "600      Yash Dayal     0           0            1     11.0         205.0   \n",
       "601   Yashpal Singh    47           5           67      0.0           0.0   \n",
       "602     Younis Khan     3           0            7      0.0           0.0   \n",
       "603    Yuvraj Singh  2754         367         2207     36.0         882.0   \n",
       "604          Z Khan   117          13          141    102.0        2276.0   \n",
       "\n",
       "     runs_conceded  matches  batting_avg  batting_strike_rate  \\\n",
       "0            400.0       28        10.00               142.86   \n",
       "1             12.0       11        14.64               115.83   \n",
       "2            245.0       12         0.33                57.14   \n",
       "3              0.0        6         8.83                70.67   \n",
       "4            144.0        5         5.00               125.00   \n",
       "..             ...      ...          ...                  ...   \n",
       "600          296.0        9         0.00                 0.00   \n",
       "601            0.0        4        11.75                70.15   \n",
       "602            0.0        1         3.00                42.86   \n",
       "603         1091.0      129        21.35               124.78   \n",
       "604         2860.0       99         1.18                82.98   \n",
       "\n",
       "     boundaries_percent  bowling_economy  bowling_avg  bowling_strike_rate  \\\n",
       "0                 15.82             8.89        22.22                15.00   \n",
       "1                 12.95             6.00         6.00                 6.00   \n",
       "2                  0.00             6.28        22.27                21.27   \n",
       "3                  9.33             0.00         0.00                 0.00   \n",
       "4                 10.00             8.00        28.80                21.60   \n",
       "..                  ...              ...          ...                  ...   \n",
       "600                0.00             8.66        26.91                18.64   \n",
       "601                7.46             0.00         0.00                 0.00   \n",
       "602                0.00             0.00         0.00                 0.00   \n",
       "603               16.63             7.42        30.31                24.50   \n",
       "604                9.22             7.54        28.04                22.31   \n",
       "\n",
       "     catches  stumpings  \n",
       "0        8.0        0.0  \n",
       "1        8.0        0.0  \n",
       "2        2.0        0.0  \n",
       "3        2.0        0.0  \n",
       "4        0.0        0.0  \n",
       "..       ...        ...  \n",
       "600      1.0        0.0  \n",
       "601      3.0        0.0  \n",
       "602      1.0        0.0  \n",
       "603     29.0        0.0  \n",
       "604     20.0        0.0  \n",
       "\n",
       "[605 rows x 16 columns]"
      ]
     },
     "execution_count": 25,
     "metadata": {},
     "output_type": "execute_result"
    }
   ],
   "source": [
    "players"
   ]
  },
  {
   "cell_type": "code",
   "execution_count": 108,
   "metadata": {},
   "outputs": [],
   "source": [
    "matches['batting_avg']=pd.merge(matches,players,how='left',left_on='player_of_match',right_on='player')['batting_avg']\n",
    "matches['runs']=pd.merge(matches,players,how='left',left_on='player_of_match',right_on='player')['runs']\n",
    "matches['bowling_avg']=pd.merge(matches,players,how='left',left_on='player_of_match',right_on='player')['bowling_avg']\n",
    "matches['wickets']=pd.merge(matches,players,how='left',left_on='player_of_match',right_on='player')['wickets']"
   ]
  },
  {
   "cell_type": "code",
   "execution_count": null,
   "metadata": {},
   "outputs": [],
   "source": []
  },
  {
   "cell_type": "code",
   "execution_count": null,
   "metadata": {},
   "outputs": [],
   "source": [
    "matches.drop(columns=['player_of_match'],inplace=True)"
   ]
  },
  {
   "cell_type": "code",
   "execution_count": null,
   "metadata": {},
   "outputs": [],
   "source": [
    "matches.drop(columns=['season'],inplace=True)"
   ]
  },
  {
   "cell_type": "code",
   "execution_count": null,
   "metadata": {},
   "outputs": [],
   "source": [
    "matches.drop(columns=['date'],inplace=True)"
   ]
  },
  {
   "cell_type": "code",
   "execution_count": 70,
   "metadata": {},
   "outputs": [
    {
     "data": {
      "text/html": [
       "<div>\n",
       "<style scoped>\n",
       "    .dataframe tbody tr th:only-of-type {\n",
       "        vertical-align: middle;\n",
       "    }\n",
       "\n",
       "    .dataframe tbody tr th {\n",
       "        vertical-align: top;\n",
       "    }\n",
       "\n",
       "    .dataframe thead th {\n",
       "        text-align: right;\n",
       "    }\n",
       "</style>\n",
       "<table border=\"1\" class=\"dataframe\">\n",
       "  <thead>\n",
       "    <tr style=\"text-align: right;\">\n",
       "      <th></th>\n",
       "      <th>season</th>\n",
       "      <th>date</th>\n",
       "      <th>match_type</th>\n",
       "      <th>player_of_match</th>\n",
       "      <th>venue</th>\n",
       "      <th>team1</th>\n",
       "      <th>team2</th>\n",
       "      <th>toss_winner</th>\n",
       "      <th>toss_decision</th>\n",
       "      <th>winner</th>\n",
       "      <th>result</th>\n",
       "      <th>result_margin</th>\n",
       "      <th>target_runs</th>\n",
       "      <th>target_overs</th>\n",
       "      <th>umpire1</th>\n",
       "      <th>umpire2</th>\n",
       "      <th>batting_avg</th>\n",
       "      <th>runs</th>\n",
       "      <th>bowling_avg</th>\n",
       "      <th>wickets</th>\n",
       "    </tr>\n",
       "  </thead>\n",
       "  <tbody>\n",
       "    <tr>\n",
       "      <th>0</th>\n",
       "      <td>2007/08</td>\n",
       "      <td>2008-04-18</td>\n",
       "      <td>League</td>\n",
       "      <td>BB McCullum</td>\n",
       "      <td>M Chinnaswamy Stadium</td>\n",
       "      <td>Royal Challengers Bangalore</td>\n",
       "      <td>Kolkata Knight Riders</td>\n",
       "      <td>Royal Challengers Bangalore</td>\n",
       "      <td>field</td>\n",
       "      <td>Kolkata Knight Riders</td>\n",
       "      <td>runs</td>\n",
       "      <td>140.0</td>\n",
       "      <td>223.0</td>\n",
       "      <td>20.0</td>\n",
       "      <td>Asad Rauf</td>\n",
       "      <td>RE Koertzen</td>\n",
       "      <td>26.44</td>\n",
       "      <td>2882.0</td>\n",
       "      <td>0.00</td>\n",
       "      <td>0.0</td>\n",
       "    </tr>\n",
       "    <tr>\n",
       "      <th>1</th>\n",
       "      <td>2007/08</td>\n",
       "      <td>2008-04-19</td>\n",
       "      <td>League</td>\n",
       "      <td>MEK Hussey</td>\n",
       "      <td>Punjab Cricket Association Stadium, Mohali</td>\n",
       "      <td>Kings XI Punjab</td>\n",
       "      <td>Chennai Super Kings</td>\n",
       "      <td>Chennai Super Kings</td>\n",
       "      <td>bat</td>\n",
       "      <td>Chennai Super Kings</td>\n",
       "      <td>runs</td>\n",
       "      <td>33.0</td>\n",
       "      <td>241.0</td>\n",
       "      <td>20.0</td>\n",
       "      <td>MR Benson</td>\n",
       "      <td>SL Shastri</td>\n",
       "      <td>34.09</td>\n",
       "      <td>1977.0</td>\n",
       "      <td>0.00</td>\n",
       "      <td>0.0</td>\n",
       "    </tr>\n",
       "    <tr>\n",
       "      <th>2</th>\n",
       "      <td>2007/08</td>\n",
       "      <td>2008-04-19</td>\n",
       "      <td>League</td>\n",
       "      <td>MF Maharoof</td>\n",
       "      <td>Feroz Shah Kotla</td>\n",
       "      <td>Delhi Daredevils</td>\n",
       "      <td>Rajasthan Royals</td>\n",
       "      <td>Rajasthan Royals</td>\n",
       "      <td>bat</td>\n",
       "      <td>Delhi Daredevils</td>\n",
       "      <td>wickets</td>\n",
       "      <td>9.0</td>\n",
       "      <td>130.0</td>\n",
       "      <td>20.0</td>\n",
       "      <td>Aleem Dar</td>\n",
       "      <td>GA Pratapkumar</td>\n",
       "      <td>8.85</td>\n",
       "      <td>177.0</td>\n",
       "      <td>19.70</td>\n",
       "      <td>27.0</td>\n",
       "    </tr>\n",
       "    <tr>\n",
       "      <th>3</th>\n",
       "      <td>2007/08</td>\n",
       "      <td>2008-04-20</td>\n",
       "      <td>League</td>\n",
       "      <td>MV Boucher</td>\n",
       "      <td>Wankhede Stadium</td>\n",
       "      <td>Mumbai Indians</td>\n",
       "      <td>Royal Challengers Bangalore</td>\n",
       "      <td>Mumbai Indians</td>\n",
       "      <td>bat</td>\n",
       "      <td>Royal Challengers Bangalore</td>\n",
       "      <td>wickets</td>\n",
       "      <td>5.0</td>\n",
       "      <td>166.0</td>\n",
       "      <td>20.0</td>\n",
       "      <td>SJ Davis</td>\n",
       "      <td>DJ Harper</td>\n",
       "      <td>17.13</td>\n",
       "      <td>394.0</td>\n",
       "      <td>0.00</td>\n",
       "      <td>0.0</td>\n",
       "    </tr>\n",
       "    <tr>\n",
       "      <th>4</th>\n",
       "      <td>2007/08</td>\n",
       "      <td>2008-04-20</td>\n",
       "      <td>League</td>\n",
       "      <td>DJ Hussey</td>\n",
       "      <td>Eden Gardens</td>\n",
       "      <td>Kolkata Knight Riders</td>\n",
       "      <td>Deccan Chargers</td>\n",
       "      <td>Deccan Chargers</td>\n",
       "      <td>bat</td>\n",
       "      <td>Kolkata Knight Riders</td>\n",
       "      <td>wickets</td>\n",
       "      <td>5.0</td>\n",
       "      <td>111.0</td>\n",
       "      <td>20.0</td>\n",
       "      <td>BF Bowden</td>\n",
       "      <td>K Hariharan</td>\n",
       "      <td>21.67</td>\n",
       "      <td>1322.0</td>\n",
       "      <td>60.62</td>\n",
       "      <td>8.0</td>\n",
       "    </tr>\n",
       "    <tr>\n",
       "      <th>...</th>\n",
       "      <td>...</td>\n",
       "      <td>...</td>\n",
       "      <td>...</td>\n",
       "      <td>...</td>\n",
       "      <td>...</td>\n",
       "      <td>...</td>\n",
       "      <td>...</td>\n",
       "      <td>...</td>\n",
       "      <td>...</td>\n",
       "      <td>...</td>\n",
       "      <td>...</td>\n",
       "      <td>...</td>\n",
       "      <td>...</td>\n",
       "      <td>...</td>\n",
       "      <td>...</td>\n",
       "      <td>...</td>\n",
       "      <td>...</td>\n",
       "      <td>...</td>\n",
       "      <td>...</td>\n",
       "      <td>...</td>\n",
       "    </tr>\n",
       "    <tr>\n",
       "      <th>1090</th>\n",
       "      <td>2024</td>\n",
       "      <td>2024-05-19</td>\n",
       "      <td>League</td>\n",
       "      <td>Abhishek Sharma</td>\n",
       "      <td>Rajiv Gandhi International Stadium, Uppal, Hyd...</td>\n",
       "      <td>Punjab Kings</td>\n",
       "      <td>Sunrisers Hyderabad</td>\n",
       "      <td>Punjab Kings</td>\n",
       "      <td>bat</td>\n",
       "      <td>Sunrisers Hyderabad</td>\n",
       "      <td>wickets</td>\n",
       "      <td>4.0</td>\n",
       "      <td>215.0</td>\n",
       "      <td>20.0</td>\n",
       "      <td>Nitin Menon</td>\n",
       "      <td>VK Sharma</td>\n",
       "      <td>18.53</td>\n",
       "      <td>667.0</td>\n",
       "      <td>31.14</td>\n",
       "      <td>7.0</td>\n",
       "    </tr>\n",
       "    <tr>\n",
       "      <th>1091</th>\n",
       "      <td>2024</td>\n",
       "      <td>2024-05-21</td>\n",
       "      <td>Qualifier</td>\n",
       "      <td>MA Starc</td>\n",
       "      <td>Narendra Modi Stadium, Ahmedabad</td>\n",
       "      <td>Sunrisers Hyderabad</td>\n",
       "      <td>Kolkata Knight Riders</td>\n",
       "      <td>Sunrisers Hyderabad</td>\n",
       "      <td>bat</td>\n",
       "      <td>Kolkata Knight Riders</td>\n",
       "      <td>wickets</td>\n",
       "      <td>8.0</td>\n",
       "      <td>160.0</td>\n",
       "      <td>20.0</td>\n",
       "      <td>AK Chaudhary</td>\n",
       "      <td>R Pandit</td>\n",
       "      <td>3.69</td>\n",
       "      <td>96.0</td>\n",
       "      <td>21.32</td>\n",
       "      <td>34.0</td>\n",
       "    </tr>\n",
       "    <tr>\n",
       "      <th>1092</th>\n",
       "      <td>2024</td>\n",
       "      <td>2024-05-22</td>\n",
       "      <td>Eliminator</td>\n",
       "      <td>R Ashwin</td>\n",
       "      <td>Narendra Modi Stadium, Ahmedabad</td>\n",
       "      <td>Royal Challengers Bengaluru</td>\n",
       "      <td>Rajasthan Royals</td>\n",
       "      <td>Rajasthan Royals</td>\n",
       "      <td>field</td>\n",
       "      <td>Rajasthan Royals</td>\n",
       "      <td>wickets</td>\n",
       "      <td>4.0</td>\n",
       "      <td>173.0</td>\n",
       "      <td>20.0</td>\n",
       "      <td>KN Ananthapadmanabhan</td>\n",
       "      <td>MV Saidharshan Kumar</td>\n",
       "      <td>3.57</td>\n",
       "      <td>647.0</td>\n",
       "      <td>29.27</td>\n",
       "      <td>157.0</td>\n",
       "    </tr>\n",
       "    <tr>\n",
       "      <th>1093</th>\n",
       "      <td>2024</td>\n",
       "      <td>2024-05-24</td>\n",
       "      <td>Qualifier</td>\n",
       "      <td>Shahbaz Ahmed</td>\n",
       "      <td>MA Chidambaram Stadium, Chepauk, Chennai</td>\n",
       "      <td>Sunrisers Hyderabad</td>\n",
       "      <td>Rajasthan Royals</td>\n",
       "      <td>Rajasthan Royals</td>\n",
       "      <td>field</td>\n",
       "      <td>Sunrisers Hyderabad</td>\n",
       "      <td>runs</td>\n",
       "      <td>36.0</td>\n",
       "      <td>176.0</td>\n",
       "      <td>20.0</td>\n",
       "      <td>Nitin Menon</td>\n",
       "      <td>VK Sharma</td>\n",
       "      <td>10.73</td>\n",
       "      <td>279.0</td>\n",
       "      <td>36.77</td>\n",
       "      <td>13.0</td>\n",
       "    </tr>\n",
       "    <tr>\n",
       "      <th>1094</th>\n",
       "      <td>2024</td>\n",
       "      <td>2024-05-26</td>\n",
       "      <td>Final</td>\n",
       "      <td>MA Starc</td>\n",
       "      <td>MA Chidambaram Stadium, Chepauk, Chennai</td>\n",
       "      <td>Sunrisers Hyderabad</td>\n",
       "      <td>Kolkata Knight Riders</td>\n",
       "      <td>Sunrisers Hyderabad</td>\n",
       "      <td>bat</td>\n",
       "      <td>Kolkata Knight Riders</td>\n",
       "      <td>wickets</td>\n",
       "      <td>8.0</td>\n",
       "      <td>114.0</td>\n",
       "      <td>20.0</td>\n",
       "      <td>J Madanagopal</td>\n",
       "      <td>Nitin Menon</td>\n",
       "      <td>3.69</td>\n",
       "      <td>96.0</td>\n",
       "      <td>21.32</td>\n",
       "      <td>34.0</td>\n",
       "    </tr>\n",
       "  </tbody>\n",
       "</table>\n",
       "<p>1095 rows × 20 columns</p>\n",
       "</div>"
      ],
      "text/plain": [
       "       season        date  match_type  player_of_match  \\\n",
       "0     2007/08  2008-04-18      League      BB McCullum   \n",
       "1     2007/08  2008-04-19      League       MEK Hussey   \n",
       "2     2007/08  2008-04-19      League      MF Maharoof   \n",
       "3     2007/08  2008-04-20      League       MV Boucher   \n",
       "4     2007/08  2008-04-20      League        DJ Hussey   \n",
       "...       ...         ...         ...              ...   \n",
       "1090     2024  2024-05-19      League  Abhishek Sharma   \n",
       "1091     2024  2024-05-21   Qualifier         MA Starc   \n",
       "1092     2024  2024-05-22  Eliminator         R Ashwin   \n",
       "1093     2024  2024-05-24   Qualifier    Shahbaz Ahmed   \n",
       "1094     2024  2024-05-26       Final         MA Starc   \n",
       "\n",
       "                                                  venue  \\\n",
       "0                                 M Chinnaswamy Stadium   \n",
       "1            Punjab Cricket Association Stadium, Mohali   \n",
       "2                                      Feroz Shah Kotla   \n",
       "3                                      Wankhede Stadium   \n",
       "4                                          Eden Gardens   \n",
       "...                                                 ...   \n",
       "1090  Rajiv Gandhi International Stadium, Uppal, Hyd...   \n",
       "1091                   Narendra Modi Stadium, Ahmedabad   \n",
       "1092                   Narendra Modi Stadium, Ahmedabad   \n",
       "1093           MA Chidambaram Stadium, Chepauk, Chennai   \n",
       "1094           MA Chidambaram Stadium, Chepauk, Chennai   \n",
       "\n",
       "                            team1                        team2  \\\n",
       "0     Royal Challengers Bangalore        Kolkata Knight Riders   \n",
       "1                 Kings XI Punjab          Chennai Super Kings   \n",
       "2                Delhi Daredevils             Rajasthan Royals   \n",
       "3                  Mumbai Indians  Royal Challengers Bangalore   \n",
       "4           Kolkata Knight Riders              Deccan Chargers   \n",
       "...                           ...                          ...   \n",
       "1090                 Punjab Kings          Sunrisers Hyderabad   \n",
       "1091          Sunrisers Hyderabad        Kolkata Knight Riders   \n",
       "1092  Royal Challengers Bengaluru             Rajasthan Royals   \n",
       "1093          Sunrisers Hyderabad             Rajasthan Royals   \n",
       "1094          Sunrisers Hyderabad        Kolkata Knight Riders   \n",
       "\n",
       "                      toss_winner toss_decision                       winner  \\\n",
       "0     Royal Challengers Bangalore         field        Kolkata Knight Riders   \n",
       "1             Chennai Super Kings           bat          Chennai Super Kings   \n",
       "2                Rajasthan Royals           bat             Delhi Daredevils   \n",
       "3                  Mumbai Indians           bat  Royal Challengers Bangalore   \n",
       "4                 Deccan Chargers           bat        Kolkata Knight Riders   \n",
       "...                           ...           ...                          ...   \n",
       "1090                 Punjab Kings           bat          Sunrisers Hyderabad   \n",
       "1091          Sunrisers Hyderabad           bat        Kolkata Knight Riders   \n",
       "1092             Rajasthan Royals         field             Rajasthan Royals   \n",
       "1093             Rajasthan Royals         field          Sunrisers Hyderabad   \n",
       "1094          Sunrisers Hyderabad           bat        Kolkata Knight Riders   \n",
       "\n",
       "       result  result_margin  target_runs  target_overs  \\\n",
       "0        runs          140.0        223.0          20.0   \n",
       "1        runs           33.0        241.0          20.0   \n",
       "2     wickets            9.0        130.0          20.0   \n",
       "3     wickets            5.0        166.0          20.0   \n",
       "4     wickets            5.0        111.0          20.0   \n",
       "...       ...            ...          ...           ...   \n",
       "1090  wickets            4.0        215.0          20.0   \n",
       "1091  wickets            8.0        160.0          20.0   \n",
       "1092  wickets            4.0        173.0          20.0   \n",
       "1093     runs           36.0        176.0          20.0   \n",
       "1094  wickets            8.0        114.0          20.0   \n",
       "\n",
       "                    umpire1               umpire2  batting_avg    runs  \\\n",
       "0                 Asad Rauf           RE Koertzen        26.44  2882.0   \n",
       "1                 MR Benson            SL Shastri        34.09  1977.0   \n",
       "2                 Aleem Dar        GA Pratapkumar         8.85   177.0   \n",
       "3                  SJ Davis             DJ Harper        17.13   394.0   \n",
       "4                 BF Bowden           K Hariharan        21.67  1322.0   \n",
       "...                     ...                   ...          ...     ...   \n",
       "1090            Nitin Menon             VK Sharma        18.53   667.0   \n",
       "1091           AK Chaudhary              R Pandit         3.69    96.0   \n",
       "1092  KN Ananthapadmanabhan  MV Saidharshan Kumar         3.57   647.0   \n",
       "1093            Nitin Menon             VK Sharma        10.73   279.0   \n",
       "1094          J Madanagopal           Nitin Menon         3.69    96.0   \n",
       "\n",
       "      bowling_avg  wickets  \n",
       "0            0.00      0.0  \n",
       "1            0.00      0.0  \n",
       "2           19.70     27.0  \n",
       "3            0.00      0.0  \n",
       "4           60.62      8.0  \n",
       "...           ...      ...  \n",
       "1090        31.14      7.0  \n",
       "1091        21.32     34.0  \n",
       "1092        29.27    157.0  \n",
       "1093        36.77     13.0  \n",
       "1094        21.32     34.0  \n",
       "\n",
       "[1095 rows x 20 columns]"
      ]
     },
     "execution_count": 70,
     "metadata": {},
     "output_type": "execute_result"
    }
   ],
   "source": [
    "matches"
   ]
  },
  {
   "cell_type": "code",
   "execution_count": null,
   "metadata": {},
   "outputs": [],
   "source": [
    "plt.figure(figsize=(10,5))\n",
    "sns.histplot(matches['result_margin'],bins=120)\n",
    "plt.show()"
   ]
  },
  {
   "cell_type": "code",
   "execution_count": null,
   "metadata": {},
   "outputs": [],
   "source": [
    "plt.figure(figsize=(10,5))\n",
    "sns.histplot(matches['target_overs'],bins=3)\n",
    "plt.show()"
   ]
  },
  {
   "cell_type": "code",
   "execution_count": 125,
   "metadata": {},
   "outputs": [],
   "source": [
    "matches.to_csv('matches_cleaned.csv',index=False)"
   ]
  },
  {
   "cell_type": "code",
   "execution_count": 127,
   "metadata": {},
   "outputs": [],
   "source": [
    "matches=pd.read_csv('matches_cleaned.csv')"
   ]
  },
  {
   "cell_type": "code",
   "execution_count": 17,
   "metadata": {},
   "outputs": [],
   "source": [
    "X_trains, X_tests, y_trains, y_tests = train_test_split(matches.drop(columns=['winner']),matches['winner'],test_size=0.2,random_state=42)"
   ]
  },
  {
   "cell_type": "code",
   "execution_count": 27,
   "metadata": {},
   "outputs": [
    {
     "data": {
      "text/plain": [
       "match_type\n",
       "League        832\n",
       "Qualifier      19\n",
       "Eliminator     15\n",
       "Final          10\n",
       "Name: count, dtype: int64"
      ]
     },
     "execution_count": 27,
     "metadata": {},
     "output_type": "execute_result"
    }
   ],
   "source": [
    "X_trains['match_type'].value_counts()"
   ]
  },
  {
   "cell_type": "code",
   "execution_count": 35,
   "metadata": {},
   "outputs": [
    {
     "ename": "InvalidParameterError",
     "evalue": "The 'unknown_value' parameter of OrdinalEncoder must be an instance of 'int', an instance of 'float' or None. Got 'ignore' instead.",
     "output_type": "error",
     "traceback": [
      "\u001b[0;31m---------------------------------------------------------------------------\u001b[0m",
      "\u001b[0;31mInvalidParameterError\u001b[0m                     Traceback (most recent call last)",
      "Cell \u001b[0;32mIn[35], line 1\u001b[0m\n\u001b[0;32m----> 1\u001b[0m X_trains_transformed\u001b[38;5;241m=\u001b[39m\u001b[43mcolumnTransformer\u001b[49m\u001b[38;5;241;43m.\u001b[39;49m\u001b[43mfit_transform\u001b[49m\u001b[43m(\u001b[49m\u001b[43mX_trains\u001b[49m\u001b[43m)\u001b[49m\n",
      "File \u001b[0;32m/Library/Frameworks/Python.framework/Versions/3.12/lib/python3.12/site-packages/sklearn/utils/_set_output.py:316\u001b[0m, in \u001b[0;36m_wrap_method_output.<locals>.wrapped\u001b[0;34m(self, X, *args, **kwargs)\u001b[0m\n\u001b[1;32m    314\u001b[0m \u001b[38;5;129m@wraps\u001b[39m(f)\n\u001b[1;32m    315\u001b[0m \u001b[38;5;28;01mdef\u001b[39;00m \u001b[38;5;21mwrapped\u001b[39m(\u001b[38;5;28mself\u001b[39m, X, \u001b[38;5;241m*\u001b[39margs, \u001b[38;5;241m*\u001b[39m\u001b[38;5;241m*\u001b[39mkwargs):\n\u001b[0;32m--> 316\u001b[0m     data_to_wrap \u001b[38;5;241m=\u001b[39m \u001b[43mf\u001b[49m\u001b[43m(\u001b[49m\u001b[38;5;28;43mself\u001b[39;49m\u001b[43m,\u001b[49m\u001b[43m \u001b[49m\u001b[43mX\u001b[49m\u001b[43m,\u001b[49m\u001b[43m \u001b[49m\u001b[38;5;241;43m*\u001b[39;49m\u001b[43margs\u001b[49m\u001b[43m,\u001b[49m\u001b[43m \u001b[49m\u001b[38;5;241;43m*\u001b[39;49m\u001b[38;5;241;43m*\u001b[39;49m\u001b[43mkwargs\u001b[49m\u001b[43m)\u001b[49m\n\u001b[1;32m    317\u001b[0m     \u001b[38;5;28;01mif\u001b[39;00m \u001b[38;5;28misinstance\u001b[39m(data_to_wrap, \u001b[38;5;28mtuple\u001b[39m):\n\u001b[1;32m    318\u001b[0m         \u001b[38;5;66;03m# only wrap the first output for cross decomposition\u001b[39;00m\n\u001b[1;32m    319\u001b[0m         return_tuple \u001b[38;5;241m=\u001b[39m (\n\u001b[1;32m    320\u001b[0m             _wrap_data_with_container(method, data_to_wrap[\u001b[38;5;241m0\u001b[39m], X, \u001b[38;5;28mself\u001b[39m),\n\u001b[1;32m    321\u001b[0m             \u001b[38;5;241m*\u001b[39mdata_to_wrap[\u001b[38;5;241m1\u001b[39m:],\n\u001b[1;32m    322\u001b[0m         )\n",
      "File \u001b[0;32m/Library/Frameworks/Python.framework/Versions/3.12/lib/python3.12/site-packages/sklearn/base.py:1473\u001b[0m, in \u001b[0;36m_fit_context.<locals>.decorator.<locals>.wrapper\u001b[0;34m(estimator, *args, **kwargs)\u001b[0m\n\u001b[1;32m   1466\u001b[0m     estimator\u001b[38;5;241m.\u001b[39m_validate_params()\n\u001b[1;32m   1468\u001b[0m \u001b[38;5;28;01mwith\u001b[39;00m config_context(\n\u001b[1;32m   1469\u001b[0m     skip_parameter_validation\u001b[38;5;241m=\u001b[39m(\n\u001b[1;32m   1470\u001b[0m         prefer_skip_nested_validation \u001b[38;5;129;01mor\u001b[39;00m global_skip_validation\n\u001b[1;32m   1471\u001b[0m     )\n\u001b[1;32m   1472\u001b[0m ):\n\u001b[0;32m-> 1473\u001b[0m     \u001b[38;5;28;01mreturn\u001b[39;00m \u001b[43mfit_method\u001b[49m\u001b[43m(\u001b[49m\u001b[43mestimator\u001b[49m\u001b[43m,\u001b[49m\u001b[43m \u001b[49m\u001b[38;5;241;43m*\u001b[39;49m\u001b[43margs\u001b[49m\u001b[43m,\u001b[49m\u001b[43m \u001b[49m\u001b[38;5;241;43m*\u001b[39;49m\u001b[38;5;241;43m*\u001b[39;49m\u001b[43mkwargs\u001b[49m\u001b[43m)\u001b[49m\n",
      "File \u001b[0;32m/Library/Frameworks/Python.framework/Versions/3.12/lib/python3.12/site-packages/sklearn/compose/_column_transformer.py:976\u001b[0m, in \u001b[0;36mColumnTransformer.fit_transform\u001b[0;34m(self, X, y, **params)\u001b[0m\n\u001b[1;32m    973\u001b[0m \u001b[38;5;28;01melse\u001b[39;00m:\n\u001b[1;32m    974\u001b[0m     routed_params \u001b[38;5;241m=\u001b[39m \u001b[38;5;28mself\u001b[39m\u001b[38;5;241m.\u001b[39m_get_empty_routing()\n\u001b[0;32m--> 976\u001b[0m result \u001b[38;5;241m=\u001b[39m \u001b[38;5;28;43mself\u001b[39;49m\u001b[38;5;241;43m.\u001b[39;49m\u001b[43m_call_func_on_transformers\u001b[49m\u001b[43m(\u001b[49m\n\u001b[1;32m    977\u001b[0m \u001b[43m    \u001b[49m\u001b[43mX\u001b[49m\u001b[43m,\u001b[49m\n\u001b[1;32m    978\u001b[0m \u001b[43m    \u001b[49m\u001b[43my\u001b[49m\u001b[43m,\u001b[49m\n\u001b[1;32m    979\u001b[0m \u001b[43m    \u001b[49m\u001b[43m_fit_transform_one\u001b[49m\u001b[43m,\u001b[49m\n\u001b[1;32m    980\u001b[0m \u001b[43m    \u001b[49m\u001b[43mcolumn_as_labels\u001b[49m\u001b[38;5;241;43m=\u001b[39;49m\u001b[38;5;28;43;01mFalse\u001b[39;49;00m\u001b[43m,\u001b[49m\n\u001b[1;32m    981\u001b[0m \u001b[43m    \u001b[49m\u001b[43mrouted_params\u001b[49m\u001b[38;5;241;43m=\u001b[39;49m\u001b[43mrouted_params\u001b[49m\u001b[43m,\u001b[49m\n\u001b[1;32m    982\u001b[0m \u001b[43m\u001b[49m\u001b[43m)\u001b[49m\n\u001b[1;32m    984\u001b[0m \u001b[38;5;28;01mif\u001b[39;00m \u001b[38;5;129;01mnot\u001b[39;00m result:\n\u001b[1;32m    985\u001b[0m     \u001b[38;5;28mself\u001b[39m\u001b[38;5;241m.\u001b[39m_update_fitted_transformers([])\n",
      "File \u001b[0;32m/Library/Frameworks/Python.framework/Versions/3.12/lib/python3.12/site-packages/sklearn/compose/_column_transformer.py:885\u001b[0m, in \u001b[0;36mColumnTransformer._call_func_on_transformers\u001b[0;34m(self, X, y, func, column_as_labels, routed_params)\u001b[0m\n\u001b[1;32m    873\u001b[0m             extra_args \u001b[38;5;241m=\u001b[39m {}\n\u001b[1;32m    874\u001b[0m         jobs\u001b[38;5;241m.\u001b[39mappend(\n\u001b[1;32m    875\u001b[0m             delayed(func)(\n\u001b[1;32m    876\u001b[0m                 transformer\u001b[38;5;241m=\u001b[39mclone(trans) \u001b[38;5;28;01mif\u001b[39;00m \u001b[38;5;129;01mnot\u001b[39;00m fitted \u001b[38;5;28;01melse\u001b[39;00m trans,\n\u001b[0;32m   (...)\u001b[0m\n\u001b[1;32m    882\u001b[0m             )\n\u001b[1;32m    883\u001b[0m         )\n\u001b[0;32m--> 885\u001b[0m     \u001b[38;5;28;01mreturn\u001b[39;00m \u001b[43mParallel\u001b[49m\u001b[43m(\u001b[49m\u001b[43mn_jobs\u001b[49m\u001b[38;5;241;43m=\u001b[39;49m\u001b[38;5;28;43mself\u001b[39;49m\u001b[38;5;241;43m.\u001b[39;49m\u001b[43mn_jobs\u001b[49m\u001b[43m)\u001b[49m\u001b[43m(\u001b[49m\u001b[43mjobs\u001b[49m\u001b[43m)\u001b[49m\n\u001b[1;32m    887\u001b[0m \u001b[38;5;28;01mexcept\u001b[39;00m \u001b[38;5;167;01mValueError\u001b[39;00m \u001b[38;5;28;01mas\u001b[39;00m e:\n\u001b[1;32m    888\u001b[0m     \u001b[38;5;28;01mif\u001b[39;00m \u001b[38;5;124m\"\u001b[39m\u001b[38;5;124mExpected 2D array, got 1D array instead\u001b[39m\u001b[38;5;124m\"\u001b[39m \u001b[38;5;129;01min\u001b[39;00m \u001b[38;5;28mstr\u001b[39m(e):\n",
      "File \u001b[0;32m/Library/Frameworks/Python.framework/Versions/3.12/lib/python3.12/site-packages/sklearn/utils/parallel.py:74\u001b[0m, in \u001b[0;36mParallel.__call__\u001b[0;34m(self, iterable)\u001b[0m\n\u001b[1;32m     69\u001b[0m config \u001b[38;5;241m=\u001b[39m get_config()\n\u001b[1;32m     70\u001b[0m iterable_with_config \u001b[38;5;241m=\u001b[39m (\n\u001b[1;32m     71\u001b[0m     (_with_config(delayed_func, config), args, kwargs)\n\u001b[1;32m     72\u001b[0m     \u001b[38;5;28;01mfor\u001b[39;00m delayed_func, args, kwargs \u001b[38;5;129;01min\u001b[39;00m iterable\n\u001b[1;32m     73\u001b[0m )\n\u001b[0;32m---> 74\u001b[0m \u001b[38;5;28;01mreturn\u001b[39;00m \u001b[38;5;28;43msuper\u001b[39;49m\u001b[43m(\u001b[49m\u001b[43m)\u001b[49m\u001b[38;5;241;43m.\u001b[39;49m\u001b[38;5;21;43m__call__\u001b[39;49m\u001b[43m(\u001b[49m\u001b[43miterable_with_config\u001b[49m\u001b[43m)\u001b[49m\n",
      "File \u001b[0;32m/Library/Frameworks/Python.framework/Versions/3.12/lib/python3.12/site-packages/joblib/parallel.py:1048\u001b[0m, in \u001b[0;36mParallel.__call__\u001b[0;34m(self, iterable)\u001b[0m\n\u001b[1;32m   1039\u001b[0m \u001b[38;5;28;01mtry\u001b[39;00m:\n\u001b[1;32m   1040\u001b[0m     \u001b[38;5;66;03m# Only set self._iterating to True if at least a batch\u001b[39;00m\n\u001b[1;32m   1041\u001b[0m     \u001b[38;5;66;03m# was dispatched. In particular this covers the edge\u001b[39;00m\n\u001b[0;32m   (...)\u001b[0m\n\u001b[1;32m   1045\u001b[0m     \u001b[38;5;66;03m# was very quick and its callback already dispatched all the\u001b[39;00m\n\u001b[1;32m   1046\u001b[0m     \u001b[38;5;66;03m# remaining jobs.\u001b[39;00m\n\u001b[1;32m   1047\u001b[0m     \u001b[38;5;28mself\u001b[39m\u001b[38;5;241m.\u001b[39m_iterating \u001b[38;5;241m=\u001b[39m \u001b[38;5;28;01mFalse\u001b[39;00m\n\u001b[0;32m-> 1048\u001b[0m     \u001b[38;5;28;01mif\u001b[39;00m \u001b[38;5;28;43mself\u001b[39;49m\u001b[38;5;241;43m.\u001b[39;49m\u001b[43mdispatch_one_batch\u001b[49m\u001b[43m(\u001b[49m\u001b[43miterator\u001b[49m\u001b[43m)\u001b[49m:\n\u001b[1;32m   1049\u001b[0m         \u001b[38;5;28mself\u001b[39m\u001b[38;5;241m.\u001b[39m_iterating \u001b[38;5;241m=\u001b[39m \u001b[38;5;28mself\u001b[39m\u001b[38;5;241m.\u001b[39m_original_iterator \u001b[38;5;129;01mis\u001b[39;00m \u001b[38;5;129;01mnot\u001b[39;00m \u001b[38;5;28;01mNone\u001b[39;00m\n\u001b[1;32m   1051\u001b[0m     \u001b[38;5;28;01mwhile\u001b[39;00m \u001b[38;5;28mself\u001b[39m\u001b[38;5;241m.\u001b[39mdispatch_one_batch(iterator):\n",
      "File \u001b[0;32m/Library/Frameworks/Python.framework/Versions/3.12/lib/python3.12/site-packages/joblib/parallel.py:864\u001b[0m, in \u001b[0;36mParallel.dispatch_one_batch\u001b[0;34m(self, iterator)\u001b[0m\n\u001b[1;32m    862\u001b[0m     \u001b[38;5;28;01mreturn\u001b[39;00m \u001b[38;5;28;01mFalse\u001b[39;00m\n\u001b[1;32m    863\u001b[0m \u001b[38;5;28;01melse\u001b[39;00m:\n\u001b[0;32m--> 864\u001b[0m     \u001b[38;5;28;43mself\u001b[39;49m\u001b[38;5;241;43m.\u001b[39;49m\u001b[43m_dispatch\u001b[49m\u001b[43m(\u001b[49m\u001b[43mtasks\u001b[49m\u001b[43m)\u001b[49m\n\u001b[1;32m    865\u001b[0m     \u001b[38;5;28;01mreturn\u001b[39;00m \u001b[38;5;28;01mTrue\u001b[39;00m\n",
      "File \u001b[0;32m/Library/Frameworks/Python.framework/Versions/3.12/lib/python3.12/site-packages/joblib/parallel.py:782\u001b[0m, in \u001b[0;36mParallel._dispatch\u001b[0;34m(self, batch)\u001b[0m\n\u001b[1;32m    780\u001b[0m \u001b[38;5;28;01mwith\u001b[39;00m \u001b[38;5;28mself\u001b[39m\u001b[38;5;241m.\u001b[39m_lock:\n\u001b[1;32m    781\u001b[0m     job_idx \u001b[38;5;241m=\u001b[39m \u001b[38;5;28mlen\u001b[39m(\u001b[38;5;28mself\u001b[39m\u001b[38;5;241m.\u001b[39m_jobs)\n\u001b[0;32m--> 782\u001b[0m     job \u001b[38;5;241m=\u001b[39m \u001b[38;5;28;43mself\u001b[39;49m\u001b[38;5;241;43m.\u001b[39;49m\u001b[43m_backend\u001b[49m\u001b[38;5;241;43m.\u001b[39;49m\u001b[43mapply_async\u001b[49m\u001b[43m(\u001b[49m\u001b[43mbatch\u001b[49m\u001b[43m,\u001b[49m\u001b[43m \u001b[49m\u001b[43mcallback\u001b[49m\u001b[38;5;241;43m=\u001b[39;49m\u001b[43mcb\u001b[49m\u001b[43m)\u001b[49m\n\u001b[1;32m    783\u001b[0m     \u001b[38;5;66;03m# A job can complete so quickly than its callback is\u001b[39;00m\n\u001b[1;32m    784\u001b[0m     \u001b[38;5;66;03m# called before we get here, causing self._jobs to\u001b[39;00m\n\u001b[1;32m    785\u001b[0m     \u001b[38;5;66;03m# grow. To ensure correct results ordering, .insert is\u001b[39;00m\n\u001b[1;32m    786\u001b[0m     \u001b[38;5;66;03m# used (rather than .append) in the following line\u001b[39;00m\n\u001b[1;32m    787\u001b[0m     \u001b[38;5;28mself\u001b[39m\u001b[38;5;241m.\u001b[39m_jobs\u001b[38;5;241m.\u001b[39minsert(job_idx, job)\n",
      "File \u001b[0;32m/Library/Frameworks/Python.framework/Versions/3.12/lib/python3.12/site-packages/joblib/_parallel_backends.py:208\u001b[0m, in \u001b[0;36mSequentialBackend.apply_async\u001b[0;34m(self, func, callback)\u001b[0m\n\u001b[1;32m    206\u001b[0m \u001b[38;5;28;01mdef\u001b[39;00m \u001b[38;5;21mapply_async\u001b[39m(\u001b[38;5;28mself\u001b[39m, func, callback\u001b[38;5;241m=\u001b[39m\u001b[38;5;28;01mNone\u001b[39;00m):\n\u001b[1;32m    207\u001b[0m \u001b[38;5;250m    \u001b[39m\u001b[38;5;124;03m\"\"\"Schedule a func to be run\"\"\"\u001b[39;00m\n\u001b[0;32m--> 208\u001b[0m     result \u001b[38;5;241m=\u001b[39m \u001b[43mImmediateResult\u001b[49m\u001b[43m(\u001b[49m\u001b[43mfunc\u001b[49m\u001b[43m)\u001b[49m\n\u001b[1;32m    209\u001b[0m     \u001b[38;5;28;01mif\u001b[39;00m callback:\n\u001b[1;32m    210\u001b[0m         callback(result)\n",
      "File \u001b[0;32m/Library/Frameworks/Python.framework/Versions/3.12/lib/python3.12/site-packages/joblib/_parallel_backends.py:572\u001b[0m, in \u001b[0;36mImmediateResult.__init__\u001b[0;34m(self, batch)\u001b[0m\n\u001b[1;32m    569\u001b[0m \u001b[38;5;28;01mdef\u001b[39;00m \u001b[38;5;21m__init__\u001b[39m(\u001b[38;5;28mself\u001b[39m, batch):\n\u001b[1;32m    570\u001b[0m     \u001b[38;5;66;03m# Don't delay the application, to avoid keeping the input\u001b[39;00m\n\u001b[1;32m    571\u001b[0m     \u001b[38;5;66;03m# arguments in memory\u001b[39;00m\n\u001b[0;32m--> 572\u001b[0m     \u001b[38;5;28mself\u001b[39m\u001b[38;5;241m.\u001b[39mresults \u001b[38;5;241m=\u001b[39m \u001b[43mbatch\u001b[49m\u001b[43m(\u001b[49m\u001b[43m)\u001b[49m\n",
      "File \u001b[0;32m/Library/Frameworks/Python.framework/Versions/3.12/lib/python3.12/site-packages/joblib/parallel.py:263\u001b[0m, in \u001b[0;36mBatchedCalls.__call__\u001b[0;34m(self)\u001b[0m\n\u001b[1;32m    259\u001b[0m \u001b[38;5;28;01mdef\u001b[39;00m \u001b[38;5;21m__call__\u001b[39m(\u001b[38;5;28mself\u001b[39m):\n\u001b[1;32m    260\u001b[0m     \u001b[38;5;66;03m# Set the default nested backend to self._backend but do not set the\u001b[39;00m\n\u001b[1;32m    261\u001b[0m     \u001b[38;5;66;03m# change the default number of processes to -1\u001b[39;00m\n\u001b[1;32m    262\u001b[0m     \u001b[38;5;28;01mwith\u001b[39;00m parallel_backend(\u001b[38;5;28mself\u001b[39m\u001b[38;5;241m.\u001b[39m_backend, n_jobs\u001b[38;5;241m=\u001b[39m\u001b[38;5;28mself\u001b[39m\u001b[38;5;241m.\u001b[39m_n_jobs):\n\u001b[0;32m--> 263\u001b[0m         \u001b[38;5;28;01mreturn\u001b[39;00m [\u001b[43mfunc\u001b[49m\u001b[43m(\u001b[49m\u001b[38;5;241;43m*\u001b[39;49m\u001b[43margs\u001b[49m\u001b[43m,\u001b[49m\u001b[43m \u001b[49m\u001b[38;5;241;43m*\u001b[39;49m\u001b[38;5;241;43m*\u001b[39;49m\u001b[43mkwargs\u001b[49m\u001b[43m)\u001b[49m\n\u001b[1;32m    264\u001b[0m                 \u001b[38;5;28;01mfor\u001b[39;00m func, args, kwargs \u001b[38;5;129;01min\u001b[39;00m \u001b[38;5;28mself\u001b[39m\u001b[38;5;241m.\u001b[39mitems]\n",
      "File \u001b[0;32m/Library/Frameworks/Python.framework/Versions/3.12/lib/python3.12/site-packages/sklearn/utils/parallel.py:136\u001b[0m, in \u001b[0;36m_FuncWrapper.__call__\u001b[0;34m(self, *args, **kwargs)\u001b[0m\n\u001b[1;32m    134\u001b[0m     config \u001b[38;5;241m=\u001b[39m {}\n\u001b[1;32m    135\u001b[0m \u001b[38;5;28;01mwith\u001b[39;00m config_context(\u001b[38;5;241m*\u001b[39m\u001b[38;5;241m*\u001b[39mconfig):\n\u001b[0;32m--> 136\u001b[0m     \u001b[38;5;28;01mreturn\u001b[39;00m \u001b[38;5;28;43mself\u001b[39;49m\u001b[38;5;241;43m.\u001b[39;49m\u001b[43mfunction\u001b[49m\u001b[43m(\u001b[49m\u001b[38;5;241;43m*\u001b[39;49m\u001b[43margs\u001b[49m\u001b[43m,\u001b[49m\u001b[43m \u001b[49m\u001b[38;5;241;43m*\u001b[39;49m\u001b[38;5;241;43m*\u001b[39;49m\u001b[43mkwargs\u001b[49m\u001b[43m)\u001b[49m\n",
      "File \u001b[0;32m/Library/Frameworks/Python.framework/Versions/3.12/lib/python3.12/site-packages/sklearn/pipeline.py:1310\u001b[0m, in \u001b[0;36m_fit_transform_one\u001b[0;34m(transformer, X, y, weight, message_clsname, message, params)\u001b[0m\n\u001b[1;32m   1308\u001b[0m \u001b[38;5;28;01mwith\u001b[39;00m _print_elapsed_time(message_clsname, message):\n\u001b[1;32m   1309\u001b[0m     \u001b[38;5;28;01mif\u001b[39;00m \u001b[38;5;28mhasattr\u001b[39m(transformer, \u001b[38;5;124m\"\u001b[39m\u001b[38;5;124mfit_transform\u001b[39m\u001b[38;5;124m\"\u001b[39m):\n\u001b[0;32m-> 1310\u001b[0m         res \u001b[38;5;241m=\u001b[39m \u001b[43mtransformer\u001b[49m\u001b[38;5;241;43m.\u001b[39;49m\u001b[43mfit_transform\u001b[49m\u001b[43m(\u001b[49m\u001b[43mX\u001b[49m\u001b[43m,\u001b[49m\u001b[43m \u001b[49m\u001b[43my\u001b[49m\u001b[43m,\u001b[49m\u001b[43m \u001b[49m\u001b[38;5;241;43m*\u001b[39;49m\u001b[38;5;241;43m*\u001b[39;49m\u001b[43mparams\u001b[49m\u001b[38;5;241;43m.\u001b[39;49m\u001b[43mget\u001b[49m\u001b[43m(\u001b[49m\u001b[38;5;124;43m\"\u001b[39;49m\u001b[38;5;124;43mfit_transform\u001b[39;49m\u001b[38;5;124;43m\"\u001b[39;49m\u001b[43m,\u001b[49m\u001b[43m \u001b[49m\u001b[43m{\u001b[49m\u001b[43m}\u001b[49m\u001b[43m)\u001b[49m\u001b[43m)\u001b[49m\n\u001b[1;32m   1311\u001b[0m     \u001b[38;5;28;01melse\u001b[39;00m:\n\u001b[1;32m   1312\u001b[0m         res \u001b[38;5;241m=\u001b[39m transformer\u001b[38;5;241m.\u001b[39mfit(X, y, \u001b[38;5;241m*\u001b[39m\u001b[38;5;241m*\u001b[39mparams\u001b[38;5;241m.\u001b[39mget(\u001b[38;5;124m\"\u001b[39m\u001b[38;5;124mfit\u001b[39m\u001b[38;5;124m\"\u001b[39m, {}))\u001b[38;5;241m.\u001b[39mtransform(\n\u001b[1;32m   1313\u001b[0m             X, \u001b[38;5;241m*\u001b[39m\u001b[38;5;241m*\u001b[39mparams\u001b[38;5;241m.\u001b[39mget(\u001b[38;5;124m\"\u001b[39m\u001b[38;5;124mtransform\u001b[39m\u001b[38;5;124m\"\u001b[39m, {})\n\u001b[1;32m   1314\u001b[0m         )\n",
      "File \u001b[0;32m/Library/Frameworks/Python.framework/Versions/3.12/lib/python3.12/site-packages/sklearn/utils/_set_output.py:316\u001b[0m, in \u001b[0;36m_wrap_method_output.<locals>.wrapped\u001b[0;34m(self, X, *args, **kwargs)\u001b[0m\n\u001b[1;32m    314\u001b[0m \u001b[38;5;129m@wraps\u001b[39m(f)\n\u001b[1;32m    315\u001b[0m \u001b[38;5;28;01mdef\u001b[39;00m \u001b[38;5;21mwrapped\u001b[39m(\u001b[38;5;28mself\u001b[39m, X, \u001b[38;5;241m*\u001b[39margs, \u001b[38;5;241m*\u001b[39m\u001b[38;5;241m*\u001b[39mkwargs):\n\u001b[0;32m--> 316\u001b[0m     data_to_wrap \u001b[38;5;241m=\u001b[39m \u001b[43mf\u001b[49m\u001b[43m(\u001b[49m\u001b[38;5;28;43mself\u001b[39;49m\u001b[43m,\u001b[49m\u001b[43m \u001b[49m\u001b[43mX\u001b[49m\u001b[43m,\u001b[49m\u001b[43m \u001b[49m\u001b[38;5;241;43m*\u001b[39;49m\u001b[43margs\u001b[49m\u001b[43m,\u001b[49m\u001b[43m \u001b[49m\u001b[38;5;241;43m*\u001b[39;49m\u001b[38;5;241;43m*\u001b[39;49m\u001b[43mkwargs\u001b[49m\u001b[43m)\u001b[49m\n\u001b[1;32m    317\u001b[0m     \u001b[38;5;28;01mif\u001b[39;00m \u001b[38;5;28misinstance\u001b[39m(data_to_wrap, \u001b[38;5;28mtuple\u001b[39m):\n\u001b[1;32m    318\u001b[0m         \u001b[38;5;66;03m# only wrap the first output for cross decomposition\u001b[39;00m\n\u001b[1;32m    319\u001b[0m         return_tuple \u001b[38;5;241m=\u001b[39m (\n\u001b[1;32m    320\u001b[0m             _wrap_data_with_container(method, data_to_wrap[\u001b[38;5;241m0\u001b[39m], X, \u001b[38;5;28mself\u001b[39m),\n\u001b[1;32m    321\u001b[0m             \u001b[38;5;241m*\u001b[39mdata_to_wrap[\u001b[38;5;241m1\u001b[39m:],\n\u001b[1;32m    322\u001b[0m         )\n",
      "File \u001b[0;32m/Library/Frameworks/Python.framework/Versions/3.12/lib/python3.12/site-packages/sklearn/base.py:1098\u001b[0m, in \u001b[0;36mTransformerMixin.fit_transform\u001b[0;34m(self, X, y, **fit_params)\u001b[0m\n\u001b[1;32m   1083\u001b[0m         warnings\u001b[38;5;241m.\u001b[39mwarn(\n\u001b[1;32m   1084\u001b[0m             (\n\u001b[1;32m   1085\u001b[0m                 \u001b[38;5;124mf\u001b[39m\u001b[38;5;124m\"\u001b[39m\u001b[38;5;124mThis object (\u001b[39m\u001b[38;5;132;01m{\u001b[39;00m\u001b[38;5;28mself\u001b[39m\u001b[38;5;241m.\u001b[39m\u001b[38;5;18m__class__\u001b[39m\u001b[38;5;241m.\u001b[39m\u001b[38;5;18m__name__\u001b[39m\u001b[38;5;132;01m}\u001b[39;00m\u001b[38;5;124m) has a `transform`\u001b[39m\u001b[38;5;124m\"\u001b[39m\n\u001b[0;32m   (...)\u001b[0m\n\u001b[1;32m   1093\u001b[0m             \u001b[38;5;167;01mUserWarning\u001b[39;00m,\n\u001b[1;32m   1094\u001b[0m         )\n\u001b[1;32m   1096\u001b[0m \u001b[38;5;28;01mif\u001b[39;00m y \u001b[38;5;129;01mis\u001b[39;00m \u001b[38;5;28;01mNone\u001b[39;00m:\n\u001b[1;32m   1097\u001b[0m     \u001b[38;5;66;03m# fit method of arity 1 (unsupervised transformation)\u001b[39;00m\n\u001b[0;32m-> 1098\u001b[0m     \u001b[38;5;28;01mreturn\u001b[39;00m \u001b[38;5;28;43mself\u001b[39;49m\u001b[38;5;241;43m.\u001b[39;49m\u001b[43mfit\u001b[49m\u001b[43m(\u001b[49m\u001b[43mX\u001b[49m\u001b[43m,\u001b[49m\u001b[43m \u001b[49m\u001b[38;5;241;43m*\u001b[39;49m\u001b[38;5;241;43m*\u001b[39;49m\u001b[43mfit_params\u001b[49m\u001b[43m)\u001b[49m\u001b[38;5;241m.\u001b[39mtransform(X)\n\u001b[1;32m   1099\u001b[0m \u001b[38;5;28;01melse\u001b[39;00m:\n\u001b[1;32m   1100\u001b[0m     \u001b[38;5;66;03m# fit method of arity 2 (supervised transformation)\u001b[39;00m\n\u001b[1;32m   1101\u001b[0m     \u001b[38;5;28;01mreturn\u001b[39;00m \u001b[38;5;28mself\u001b[39m\u001b[38;5;241m.\u001b[39mfit(X, y, \u001b[38;5;241m*\u001b[39m\u001b[38;5;241m*\u001b[39mfit_params)\u001b[38;5;241m.\u001b[39mtransform(X)\n",
      "File \u001b[0;32m/Library/Frameworks/Python.framework/Versions/3.12/lib/python3.12/site-packages/sklearn/base.py:1466\u001b[0m, in \u001b[0;36m_fit_context.<locals>.decorator.<locals>.wrapper\u001b[0;34m(estimator, *args, **kwargs)\u001b[0m\n\u001b[1;32m   1461\u001b[0m partial_fit_and_fitted \u001b[38;5;241m=\u001b[39m (\n\u001b[1;32m   1462\u001b[0m     fit_method\u001b[38;5;241m.\u001b[39m\u001b[38;5;18m__name__\u001b[39m \u001b[38;5;241m==\u001b[39m \u001b[38;5;124m\"\u001b[39m\u001b[38;5;124mpartial_fit\u001b[39m\u001b[38;5;124m\"\u001b[39m \u001b[38;5;129;01mand\u001b[39;00m _is_fitted(estimator)\n\u001b[1;32m   1463\u001b[0m )\n\u001b[1;32m   1465\u001b[0m \u001b[38;5;28;01mif\u001b[39;00m \u001b[38;5;129;01mnot\u001b[39;00m global_skip_validation \u001b[38;5;129;01mand\u001b[39;00m \u001b[38;5;129;01mnot\u001b[39;00m partial_fit_and_fitted:\n\u001b[0;32m-> 1466\u001b[0m     \u001b[43mestimator\u001b[49m\u001b[38;5;241;43m.\u001b[39;49m\u001b[43m_validate_params\u001b[49m\u001b[43m(\u001b[49m\u001b[43m)\u001b[49m\n\u001b[1;32m   1468\u001b[0m \u001b[38;5;28;01mwith\u001b[39;00m config_context(\n\u001b[1;32m   1469\u001b[0m     skip_parameter_validation\u001b[38;5;241m=\u001b[39m(\n\u001b[1;32m   1470\u001b[0m         prefer_skip_nested_validation \u001b[38;5;129;01mor\u001b[39;00m global_skip_validation\n\u001b[1;32m   1471\u001b[0m     )\n\u001b[1;32m   1472\u001b[0m ):\n\u001b[1;32m   1473\u001b[0m     \u001b[38;5;28;01mreturn\u001b[39;00m fit_method(estimator, \u001b[38;5;241m*\u001b[39margs, \u001b[38;5;241m*\u001b[39m\u001b[38;5;241m*\u001b[39mkwargs)\n",
      "File \u001b[0;32m/Library/Frameworks/Python.framework/Versions/3.12/lib/python3.12/site-packages/sklearn/base.py:666\u001b[0m, in \u001b[0;36mBaseEstimator._validate_params\u001b[0;34m(self)\u001b[0m\n\u001b[1;32m    658\u001b[0m \u001b[38;5;28;01mdef\u001b[39;00m \u001b[38;5;21m_validate_params\u001b[39m(\u001b[38;5;28mself\u001b[39m):\n\u001b[1;32m    659\u001b[0m \u001b[38;5;250m    \u001b[39m\u001b[38;5;124;03m\"\"\"Validate types and values of constructor parameters\u001b[39;00m\n\u001b[1;32m    660\u001b[0m \n\u001b[1;32m    661\u001b[0m \u001b[38;5;124;03m    The expected type and values must be defined in the `_parameter_constraints`\u001b[39;00m\n\u001b[0;32m   (...)\u001b[0m\n\u001b[1;32m    664\u001b[0m \u001b[38;5;124;03m    accepted constraints.\u001b[39;00m\n\u001b[1;32m    665\u001b[0m \u001b[38;5;124;03m    \"\"\"\u001b[39;00m\n\u001b[0;32m--> 666\u001b[0m     \u001b[43mvalidate_parameter_constraints\u001b[49m\u001b[43m(\u001b[49m\n\u001b[1;32m    667\u001b[0m \u001b[43m        \u001b[49m\u001b[38;5;28;43mself\u001b[39;49m\u001b[38;5;241;43m.\u001b[39;49m\u001b[43m_parameter_constraints\u001b[49m\u001b[43m,\u001b[49m\n\u001b[1;32m    668\u001b[0m \u001b[43m        \u001b[49m\u001b[38;5;28;43mself\u001b[39;49m\u001b[38;5;241;43m.\u001b[39;49m\u001b[43mget_params\u001b[49m\u001b[43m(\u001b[49m\u001b[43mdeep\u001b[49m\u001b[38;5;241;43m=\u001b[39;49m\u001b[38;5;28;43;01mFalse\u001b[39;49;00m\u001b[43m)\u001b[49m\u001b[43m,\u001b[49m\n\u001b[1;32m    669\u001b[0m \u001b[43m        \u001b[49m\u001b[43mcaller_name\u001b[49m\u001b[38;5;241;43m=\u001b[39;49m\u001b[38;5;28;43mself\u001b[39;49m\u001b[38;5;241;43m.\u001b[39;49m\u001b[38;5;18;43m__class__\u001b[39;49m\u001b[38;5;241;43m.\u001b[39;49m\u001b[38;5;18;43m__name__\u001b[39;49m\u001b[43m,\u001b[49m\n\u001b[1;32m    670\u001b[0m \u001b[43m    \u001b[49m\u001b[43m)\u001b[49m\n",
      "File \u001b[0;32m/Library/Frameworks/Python.framework/Versions/3.12/lib/python3.12/site-packages/sklearn/utils/_param_validation.py:95\u001b[0m, in \u001b[0;36mvalidate_parameter_constraints\u001b[0;34m(parameter_constraints, params, caller_name)\u001b[0m\n\u001b[1;32m     89\u001b[0m \u001b[38;5;28;01melse\u001b[39;00m:\n\u001b[1;32m     90\u001b[0m     constraints_str \u001b[38;5;241m=\u001b[39m (\n\u001b[1;32m     91\u001b[0m         \u001b[38;5;124mf\u001b[39m\u001b[38;5;124m\"\u001b[39m\u001b[38;5;132;01m{\u001b[39;00m\u001b[38;5;124m'\u001b[39m\u001b[38;5;124m, \u001b[39m\u001b[38;5;124m'\u001b[39m\u001b[38;5;241m.\u001b[39mjoin([\u001b[38;5;28mstr\u001b[39m(c)\u001b[38;5;250m \u001b[39m\u001b[38;5;28;01mfor\u001b[39;00m\u001b[38;5;250m \u001b[39mc\u001b[38;5;250m \u001b[39m\u001b[38;5;129;01min\u001b[39;00m\u001b[38;5;250m \u001b[39mconstraints[:\u001b[38;5;241m-\u001b[39m\u001b[38;5;241m1\u001b[39m]])\u001b[38;5;132;01m}\u001b[39;00m\u001b[38;5;124m or\u001b[39m\u001b[38;5;124m\"\u001b[39m\n\u001b[1;32m     92\u001b[0m         \u001b[38;5;124mf\u001b[39m\u001b[38;5;124m\"\u001b[39m\u001b[38;5;124m \u001b[39m\u001b[38;5;132;01m{\u001b[39;00mconstraints[\u001b[38;5;241m-\u001b[39m\u001b[38;5;241m1\u001b[39m]\u001b[38;5;132;01m}\u001b[39;00m\u001b[38;5;124m\"\u001b[39m\n\u001b[1;32m     93\u001b[0m     )\n\u001b[0;32m---> 95\u001b[0m \u001b[38;5;28;01mraise\u001b[39;00m InvalidParameterError(\n\u001b[1;32m     96\u001b[0m     \u001b[38;5;124mf\u001b[39m\u001b[38;5;124m\"\u001b[39m\u001b[38;5;124mThe \u001b[39m\u001b[38;5;132;01m{\u001b[39;00mparam_name\u001b[38;5;132;01m!r}\u001b[39;00m\u001b[38;5;124m parameter of \u001b[39m\u001b[38;5;132;01m{\u001b[39;00mcaller_name\u001b[38;5;132;01m}\u001b[39;00m\u001b[38;5;124m must be\u001b[39m\u001b[38;5;124m\"\u001b[39m\n\u001b[1;32m     97\u001b[0m     \u001b[38;5;124mf\u001b[39m\u001b[38;5;124m\"\u001b[39m\u001b[38;5;124m \u001b[39m\u001b[38;5;132;01m{\u001b[39;00mconstraints_str\u001b[38;5;132;01m}\u001b[39;00m\u001b[38;5;124m. Got \u001b[39m\u001b[38;5;132;01m{\u001b[39;00mparam_val\u001b[38;5;132;01m!r}\u001b[39;00m\u001b[38;5;124m instead.\u001b[39m\u001b[38;5;124m\"\u001b[39m\n\u001b[1;32m     98\u001b[0m )\n",
      "\u001b[0;31mInvalidParameterError\u001b[0m: The 'unknown_value' parameter of OrdinalEncoder must be an instance of 'int', an instance of 'float' or None. Got 'ignore' instead."
     ]
    }
   ],
   "source": [
    "X_trains_transformed=columnTransformer.fit_transform(X_trains)"
   ]
  }
 ],
 "metadata": {
  "kernelspec": {
   "display_name": "Python 3",
   "language": "python",
   "name": "python3"
  },
  "language_info": {
   "codemirror_mode": {
    "name": "ipython",
    "version": 3
   },
   "file_extension": ".py",
   "mimetype": "text/x-python",
   "name": "python",
   "nbconvert_exporter": "python",
   "pygments_lexer": "ipython3",
   "version": "3.12.5"
  }
 },
 "nbformat": 4,
 "nbformat_minor": 2
}
