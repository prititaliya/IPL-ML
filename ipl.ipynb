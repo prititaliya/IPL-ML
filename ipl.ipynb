{
 "cells": [
  {
   "cell_type": "code",
   "execution_count": 2,
   "metadata": {},
   "outputs": [],
   "source": [
    "import pandas as pd\n",
    "import numpy as np"
   ]
  },
  {
   "cell_type": "code",
   "execution_count": 86,
   "metadata": {},
   "outputs": [],
   "source": [
    "%matplotlib inline\n",
    "import matplotlib.pyplot as plt\n",
    "import seaborn as sns\n"
   ]
  },
  {
   "cell_type": "code",
   "execution_count": 22,
   "metadata": {},
   "outputs": [],
   "source": [
    "matches=pd.read_csv('matches.csv')\n",
    "deliveries=pd.read_csv('deliveries.csv')"
   ]
  },
  {
   "cell_type": "code",
   "execution_count": null,
   "metadata": {},
   "outputs": [],
   "source": [
    "matches.sample(5)"
   ]
  },
  {
   "cell_type": "code",
   "execution_count": 7,
   "metadata": {},
   "outputs": [
    {
     "data": {
      "text/html": [
       "\n",
       "            <div>\n",
       "                <ins><a href=\"ttps://ydata.ai/register\">Upgrade to ydata-sdk</a></ins>\n",
       "                <p>\n",
       "                    Improve your data and profiling with ydata-sdk, featuring data quality scoring, redundancy detection, outlier identification, text validation, and synthetic data generation.\n",
       "                </p>\n",
       "            </div>\n",
       "            "
      ],
      "text/plain": [
       "<IPython.core.display.HTML object>"
      ]
     },
     "metadata": {},
     "output_type": "display_data"
    },
    {
     "name": "stderr",
     "output_type": "stream",
     "text": [
      "/var/folders/ct/586vcml54jgf9dlg8gh73lq40000gn/T/ipykernel_8775/2274191625.py:1: DeprecationWarning: `import pandas_profiling` is going to be deprecated by April 1st. Please use `import ydata_profiling` instead.\n",
      "  from pandas_profiling import ProfileReport\n"
     ]
    }
   ],
   "source": [
    "from pandas_profiling import ProfileReport"
   ]
  },
  {
   "cell_type": "code",
   "execution_count": 23,
   "metadata": {},
   "outputs": [
    {
     "data": {
      "application/vnd.jupyter.widget-view+json": {
       "model_id": "9ab10d34af7a4094acc119db9c654fde",
       "version_major": 2,
       "version_minor": 0
      },
      "text/plain": [
       "Summarize dataset:   0%|          | 0/5 [00:00<?, ?it/s]"
      ]
     },
     "metadata": {},
     "output_type": "display_data"
    },
    {
     "data": {
      "application/vnd.jupyter.widget-view+json": {
       "model_id": "2d233a5747144d4c90eae82b9551444b",
       "version_major": 2,
       "version_minor": 0
      },
      "text/plain": [
       "Generate report structure:   0%|          | 0/1 [00:00<?, ?it/s]"
      ]
     },
     "metadata": {},
     "output_type": "display_data"
    },
    {
     "data": {
      "application/vnd.jupyter.widget-view+json": {
       "model_id": "b545337d06cc43de91e1297abb660371",
       "version_major": 2,
       "version_minor": 0
      },
      "text/plain": [
       "Render HTML:   0%|          | 0/1 [00:00<?, ?it/s]"
      ]
     },
     "metadata": {},
     "output_type": "display_data"
    },
    {
     "data": {
      "application/vnd.jupyter.widget-view+json": {
       "model_id": "90ed34724b484d1b93df656c6655503c",
       "version_major": 2,
       "version_minor": 0
      },
      "text/plain": [
       "Export report to file:   0%|          | 0/1 [00:00<?, ?it/s]"
      ]
     },
     "metadata": {},
     "output_type": "display_data"
    }
   ],
   "source": [
    "ProfileReport(matches, title='IPL Matches Report', explorative=True).to_file(\"matches_report.html\")\n"
   ]
  },
  {
   "cell_type": "code",
   "execution_count": 24,
   "metadata": {},
   "outputs": [
    {
     "data": {
      "application/vnd.jupyter.widget-view+json": {
       "model_id": "af130282773142a2991f9a7bddfeec66",
       "version_major": 2,
       "version_minor": 0
      },
      "text/plain": [
       "Summarize dataset:   0%|          | 0/5 [00:00<?, ?it/s]"
      ]
     },
     "metadata": {},
     "output_type": "display_data"
    },
    {
     "data": {
      "application/vnd.jupyter.widget-view+json": {
       "model_id": "5537d6c9152648369c7afa78e26735a5",
       "version_major": 2,
       "version_minor": 0
      },
      "text/plain": [
       "Generate report structure:   0%|          | 0/1 [00:00<?, ?it/s]"
      ]
     },
     "metadata": {},
     "output_type": "display_data"
    },
    {
     "data": {
      "application/vnd.jupyter.widget-view+json": {
       "model_id": "2438b0b420304a54b12d820097f5a427",
       "version_major": 2,
       "version_minor": 0
      },
      "text/plain": [
       "Render HTML:   0%|          | 0/1 [00:00<?, ?it/s]"
      ]
     },
     "metadata": {},
     "output_type": "display_data"
    },
    {
     "data": {
      "application/vnd.jupyter.widget-view+json": {
       "model_id": "08ebf00da6ed4703a05534aaabce8db3",
       "version_major": 2,
       "version_minor": 0
      },
      "text/plain": [
       "Export report to file:   0%|          | 0/1 [00:00<?, ?it/s]"
      ]
     },
     "metadata": {},
     "output_type": "display_data"
    }
   ],
   "source": [
    "ProfileReport(deliveries, title='IPL Deliveries Report', explorative=True).to_file(\"deliveries_report.html\")"
   ]
  },
  {
   "cell_type": "markdown",
   "metadata": {},
   "source": [
    "# data cleaning for matches"
   ]
  },
  {
   "cell_type": "code",
   "execution_count": 13,
   "metadata": {},
   "outputs": [],
   "source": [
    "matches.drop(['id'],axis=1,inplace=True)"
   ]
  },
  {
   "cell_type": "code",
   "execution_count": 14,
   "metadata": {},
   "outputs": [],
   "source": [
    "matches_per_season=matches.season.value_counts()"
   ]
  },
  {
   "cell_type": "markdown",
   "metadata": {},
   "source": [
    "- this is filling the city name from venue "
   ]
  },
  {
   "cell_type": "code",
   "execution_count": 36,
   "metadata": {},
   "outputs": [],
   "source": [
    "matches['city'].fillna(matches[matches['city'].isna()]['venue'].apply(lambda x: x.split()[0]),inplace=True)"
   ]
  },
  {
   "cell_type": "code",
   "execution_count": 26,
   "metadata": {},
   "outputs": [],
   "source": [
    "matches.drop(columns=['method'],inplace=True)"
   ]
  },
  {
   "cell_type": "code",
   "execution_count": 29,
   "metadata": {},
   "outputs": [],
   "source": [
    "matches.drop(columns=['super_over'],inplace=True)\n"
   ]
  },
  {
   "cell_type": "code",
   "execution_count": 5,
   "metadata": {},
   "outputs": [
    {
     "data": {
      "text/plain": [
       "season             0\n",
       "city               0\n",
       "date               0\n",
       "match_type         0\n",
       "player_of_match    0\n",
       "venue              0\n",
       "team1              0\n",
       "team2              0\n",
       "toss_winner        0\n",
       "toss_decision      0\n",
       "winner             0\n",
       "result             0\n",
       "result_margin      0\n",
       "target_runs        0\n",
       "target_overs       0\n",
       "umpire1            0\n",
       "umpire2            0\n",
       "dtype: int64"
      ]
     },
     "execution_count": 5,
     "metadata": {},
     "output_type": "execute_result"
    }
   ],
   "source": [
    "matches.isna().sum()"
   ]
  },
  {
   "cell_type": "code",
   "execution_count": null,
   "metadata": {},
   "outputs": [],
   "source": []
  },
  {
   "cell_type": "code",
   "execution_count": 43,
   "metadata": {},
   "outputs": [],
   "source": [
    "matches['player_of_match'].fillna('No player',inplace=True)"
   ]
  },
  {
   "cell_type": "code",
   "execution_count": 45,
   "metadata": {},
   "outputs": [
    {
     "name": "stderr",
     "output_type": "stream",
     "text": [
      "/var/folders/ct/586vcml54jgf9dlg8gh73lq40000gn/T/ipykernel_90542/3169814262.py:1: FutureWarning: A value is trying to be set on a copy of a DataFrame or Series through chained assignment using an inplace method.\n",
      "The behavior will change in pandas 3.0. This inplace method will never work because the intermediate object on which we are setting values always behaves as a copy.\n",
      "\n",
      "For example, when doing 'df[col].method(value, inplace=True)', try using 'df.method({col: value}, inplace=True)' or df[col] = df[col].method(value) instead, to perform the operation inplace on the original object.\n",
      "\n",
      "\n",
      "  matches['winner'].fillna('No winner',inplace=True)\n"
     ]
    }
   ],
   "source": [
    "matches['winner'].fillna('No winner',inplace=True) "
   ]
  },
  {
   "cell_type": "code",
   "execution_count": 47,
   "metadata": {},
   "outputs": [
    {
     "name": "stderr",
     "output_type": "stream",
     "text": [
      "/var/folders/ct/586vcml54jgf9dlg8gh73lq40000gn/T/ipykernel_90542/3114644442.py:1: FutureWarning: A value is trying to be set on a copy of a DataFrame or Series through chained assignment using an inplace method.\n",
      "The behavior will change in pandas 3.0. This inplace method will never work because the intermediate object on which we are setting values always behaves as a copy.\n",
      "\n",
      "For example, when doing 'df[col].method(value, inplace=True)', try using 'df.method({col: value}, inplace=True)' or df[col] = df[col].method(value) instead, to perform the operation inplace on the original object.\n",
      "\n",
      "\n",
      "  matches['target_runs'].fillna(0,inplace=True)\n",
      "/var/folders/ct/586vcml54jgf9dlg8gh73lq40000gn/T/ipykernel_90542/3114644442.py:2: FutureWarning: A value is trying to be set on a copy of a DataFrame or Series through chained assignment using an inplace method.\n",
      "The behavior will change in pandas 3.0. This inplace method will never work because the intermediate object on which we are setting values always behaves as a copy.\n",
      "\n",
      "For example, when doing 'df[col].method(value, inplace=True)', try using 'df.method({col: value}, inplace=True)' or df[col] = df[col].method(value) instead, to perform the operation inplace on the original object.\n",
      "\n",
      "\n",
      "  matches['target_overs'].fillna(0,inplace=True)\n"
     ]
    }
   ],
   "source": [
    "matches['target_runs'].fillna(0,inplace=True)\n",
    "matches['target_overs'].fillna(0,inplace=True)"
   ]
  },
  {
   "cell_type": "code",
   "execution_count": 50,
   "metadata": {},
   "outputs": [
    {
     "name": "stderr",
     "output_type": "stream",
     "text": [
      "/var/folders/ct/586vcml54jgf9dlg8gh73lq40000gn/T/ipykernel_90542/3944942953.py:1: FutureWarning: A value is trying to be set on a copy of a DataFrame or Series through chained assignment using an inplace method.\n",
      "The behavior will change in pandas 3.0. This inplace method will never work because the intermediate object on which we are setting values always behaves as a copy.\n",
      "\n",
      "For example, when doing 'df[col].method(value, inplace=True)', try using 'df.method({col: value}, inplace=True)' or df[col] = df[col].method(value) instead, to perform the operation inplace on the original object.\n",
      "\n",
      "\n",
      "  matches['result_margin'].fillna(-1,inplace=True)\n"
     ]
    }
   ],
   "source": [
    "matches['result_margin'].fillna(-1,inplace=True)"
   ]
  },
  {
   "cell_type": "code",
   "execution_count": 51,
   "metadata": {},
   "outputs": [],
   "source": [
    "matches.to_csv('matches.csv',index=False)"
   ]
  },
  {
   "cell_type": "markdown",
   "metadata": {},
   "source": [
    "# Data Cleaning for Deliveries "
   ]
  },
  {
   "cell_type": "code",
   "execution_count": 20,
   "metadata": {},
   "outputs": [
    {
     "data": {
      "text/plain": [
       "match_id            0\n",
       "inning              0\n",
       "batting_team        0\n",
       "bowling_team        0\n",
       "over                0\n",
       "ball                0\n",
       "batter              0\n",
       "bowler              0\n",
       "non_striker         0\n",
       "batsman_runs        0\n",
       "extra_runs          0\n",
       "total_runs          0\n",
       "is_wicket           0\n",
       "player_dismissed    0\n",
       "dismissal_kind      0\n",
       "fielder             0\n",
       "dtype: int64"
      ]
     },
     "execution_count": 20,
     "metadata": {},
     "output_type": "execute_result"
    }
   ],
   "source": [
    "deliveries.isna().sum()"
   ]
  },
  {
   "cell_type": "code",
   "execution_count": 15,
   "metadata": {},
   "outputs": [
    {
     "data": {
      "text/html": [
       "<div>\n",
       "<style scoped>\n",
       "    .dataframe tbody tr th:only-of-type {\n",
       "        vertical-align: middle;\n",
       "    }\n",
       "\n",
       "    .dataframe tbody tr th {\n",
       "        vertical-align: top;\n",
       "    }\n",
       "\n",
       "    .dataframe thead th {\n",
       "        text-align: right;\n",
       "    }\n",
       "</style>\n",
       "<table border=\"1\" class=\"dataframe\">\n",
       "  <thead>\n",
       "    <tr style=\"text-align: right;\">\n",
       "      <th></th>\n",
       "      <th>match_id</th>\n",
       "      <th>inning</th>\n",
       "      <th>batting_team</th>\n",
       "      <th>bowling_team</th>\n",
       "      <th>over</th>\n",
       "      <th>ball</th>\n",
       "      <th>batter</th>\n",
       "      <th>bowler</th>\n",
       "      <th>non_striker</th>\n",
       "      <th>batsman_runs</th>\n",
       "      <th>extra_runs</th>\n",
       "      <th>total_runs</th>\n",
       "      <th>is_wicket</th>\n",
       "      <th>player_dismissed</th>\n",
       "      <th>dismissal_kind</th>\n",
       "      <th>fielder</th>\n",
       "    </tr>\n",
       "  </thead>\n",
       "  <tbody>\n",
       "    <tr>\n",
       "      <th>196010</th>\n",
       "      <td>1254067</td>\n",
       "      <td>2</td>\n",
       "      <td>Kolkata Knight Riders</td>\n",
       "      <td>Royal Challengers Bangalore</td>\n",
       "      <td>11</td>\n",
       "      <td>2</td>\n",
       "      <td>EJG Morgan</td>\n",
       "      <td>HV Patel</td>\n",
       "      <td>Shakib Al Hasan</td>\n",
       "      <td>0</td>\n",
       "      <td>0</td>\n",
       "      <td>0</td>\n",
       "      <td>0</td>\n",
       "      <td>NaN</td>\n",
       "      <td>NaN</td>\n",
       "      <td>NaN</td>\n",
       "    </tr>\n",
       "    <tr>\n",
       "      <th>154053</th>\n",
       "      <td>1136576</td>\n",
       "      <td>1</td>\n",
       "      <td>Kings XI Punjab</td>\n",
       "      <td>Sunrisers Hyderabad</td>\n",
       "      <td>12</td>\n",
       "      <td>2</td>\n",
       "      <td>KK Nair</td>\n",
       "      <td>CJ Jordan</td>\n",
       "      <td>CH Gayle</td>\n",
       "      <td>1</td>\n",
       "      <td>0</td>\n",
       "      <td>1</td>\n",
       "      <td>0</td>\n",
       "      <td>NaN</td>\n",
       "      <td>NaN</td>\n",
       "      <td>NaN</td>\n",
       "    </tr>\n",
       "    <tr>\n",
       "      <th>165894</th>\n",
       "      <td>1175360</td>\n",
       "      <td>2</td>\n",
       "      <td>Chennai Super Kings</td>\n",
       "      <td>Delhi Capitals</td>\n",
       "      <td>11</td>\n",
       "      <td>1</td>\n",
       "      <td>MS Dhoni</td>\n",
       "      <td>KMA Paul</td>\n",
       "      <td>KM Jadhav</td>\n",
       "      <td>0</td>\n",
       "      <td>0</td>\n",
       "      <td>0</td>\n",
       "      <td>0</td>\n",
       "      <td>NaN</td>\n",
       "      <td>NaN</td>\n",
       "      <td>NaN</td>\n",
       "    </tr>\n",
       "    <tr>\n",
       "      <th>165119</th>\n",
       "      <td>1175357</td>\n",
       "      <td>2</td>\n",
       "      <td>Kolkata Knight Riders</td>\n",
       "      <td>Sunrisers Hyderabad</td>\n",
       "      <td>6</td>\n",
       "      <td>1</td>\n",
       "      <td>N Rana</td>\n",
       "      <td>S Kaul</td>\n",
       "      <td>RV Uthappa</td>\n",
       "      <td>0</td>\n",
       "      <td>0</td>\n",
       "      <td>0</td>\n",
       "      <td>0</td>\n",
       "      <td>NaN</td>\n",
       "      <td>NaN</td>\n",
       "      <td>NaN</td>\n",
       "    </tr>\n",
       "    <tr>\n",
       "      <th>74639</th>\n",
       "      <td>548374</td>\n",
       "      <td>2</td>\n",
       "      <td>Delhi Daredevils</td>\n",
       "      <td>Kings XI Punjab</td>\n",
       "      <td>15</td>\n",
       "      <td>2</td>\n",
       "      <td>DPMD Jayawardene</td>\n",
       "      <td>P Awana</td>\n",
       "      <td>Y Venugopal Rao</td>\n",
       "      <td>0</td>\n",
       "      <td>0</td>\n",
       "      <td>0</td>\n",
       "      <td>0</td>\n",
       "      <td>NaN</td>\n",
       "      <td>NaN</td>\n",
       "      <td>NaN</td>\n",
       "    </tr>\n",
       "  </tbody>\n",
       "</table>\n",
       "</div>"
      ],
      "text/plain": [
       "        match_id  inning           batting_team                 bowling_team  \\\n",
       "196010   1254067       2  Kolkata Knight Riders  Royal Challengers Bangalore   \n",
       "154053   1136576       1        Kings XI Punjab          Sunrisers Hyderabad   \n",
       "165894   1175360       2    Chennai Super Kings               Delhi Capitals   \n",
       "165119   1175357       2  Kolkata Knight Riders          Sunrisers Hyderabad   \n",
       "74639     548374       2       Delhi Daredevils              Kings XI Punjab   \n",
       "\n",
       "        over  ball            batter     bowler      non_striker  \\\n",
       "196010    11     2        EJG Morgan   HV Patel  Shakib Al Hasan   \n",
       "154053    12     2           KK Nair  CJ Jordan         CH Gayle   \n",
       "165894    11     1          MS Dhoni   KMA Paul        KM Jadhav   \n",
       "165119     6     1            N Rana     S Kaul       RV Uthappa   \n",
       "74639     15     2  DPMD Jayawardene    P Awana  Y Venugopal Rao   \n",
       "\n",
       "        batsman_runs  extra_runs  total_runs  is_wicket player_dismissed  \\\n",
       "196010             0           0           0          0              NaN   \n",
       "154053             1           0           1          0              NaN   \n",
       "165894             0           0           0          0              NaN   \n",
       "165119             0           0           0          0              NaN   \n",
       "74639              0           0           0          0              NaN   \n",
       "\n",
       "       dismissal_kind fielder  \n",
       "196010            NaN     NaN  \n",
       "154053            NaN     NaN  \n",
       "165894            NaN     NaN  \n",
       "165119            NaN     NaN  \n",
       "74639             NaN     NaN  "
      ]
     },
     "execution_count": 15,
     "metadata": {},
     "output_type": "execute_result"
    }
   ],
   "source": [
    "deliveries.sample(5)"
   ]
  },
  {
   "cell_type": "code",
   "execution_count": 14,
   "metadata": {},
   "outputs": [],
   "source": [
    "deliveries.drop(columns=['extras_type'],inplace=True)"
   ]
  },
  {
   "cell_type": "code",
   "execution_count": 19,
   "metadata": {},
   "outputs": [
    {
     "name": "stderr",
     "output_type": "stream",
     "text": [
      "/var/folders/ct/586vcml54jgf9dlg8gh73lq40000gn/T/ipykernel_8775/2626853015.py:2: FutureWarning: A value is trying to be set on a copy of a DataFrame or Series through chained assignment using an inplace method.\n",
      "The behavior will change in pandas 3.0. This inplace method will never work because the intermediate object on which we are setting values always behaves as a copy.\n",
      "\n",
      "For example, when doing 'df[col].method(value, inplace=True)', try using 'df.method({col: value}, inplace=True)' or df[col] = df[col].method(value) instead, to perform the operation inplace on the original object.\n",
      "\n",
      "\n",
      "  deliveries['dismissal_kind'].fillna('No dismissal',inplace=True)\n"
     ]
    }
   ],
   "source": [
    "deliveries['player_dismissed'].fillna('No dismissal',inplace=True)\n",
    "deliveries['dismissal_kind'].fillna('No dismissal',inplace=True)\n",
    "deliveries['fielder'].fillna('No fielder',inplace=True)"
   ]
  },
  {
   "cell_type": "code",
   "execution_count": 16,
   "metadata": {},
   "outputs": [
    {
     "data": {
      "text/html": [
       "<div>\n",
       "<style scoped>\n",
       "    .dataframe tbody tr th:only-of-type {\n",
       "        vertical-align: middle;\n",
       "    }\n",
       "\n",
       "    .dataframe tbody tr th {\n",
       "        vertical-align: top;\n",
       "    }\n",
       "\n",
       "    .dataframe thead th {\n",
       "        text-align: right;\n",
       "    }\n",
       "</style>\n",
       "<table border=\"1\" class=\"dataframe\">\n",
       "  <thead>\n",
       "    <tr style=\"text-align: right;\">\n",
       "      <th></th>\n",
       "      <th>match_id</th>\n",
       "      <th>inning</th>\n",
       "      <th>batting_team</th>\n",
       "      <th>bowling_team</th>\n",
       "      <th>over</th>\n",
       "      <th>ball</th>\n",
       "      <th>batter</th>\n",
       "      <th>bowler</th>\n",
       "      <th>non_striker</th>\n",
       "      <th>batsman_runs</th>\n",
       "      <th>extra_runs</th>\n",
       "      <th>total_runs</th>\n",
       "      <th>is_wicket</th>\n",
       "      <th>player_dismissed</th>\n",
       "      <th>dismissal_kind</th>\n",
       "      <th>fielder</th>\n",
       "    </tr>\n",
       "  </thead>\n",
       "  <tbody>\n",
       "    <tr>\n",
       "      <th>33</th>\n",
       "      <td>335982</td>\n",
       "      <td>1</td>\n",
       "      <td>Kolkata Knight Riders</td>\n",
       "      <td>Royal Challengers Bangalore</td>\n",
       "      <td>5</td>\n",
       "      <td>2</td>\n",
       "      <td>SC Ganguly</td>\n",
       "      <td>Z Khan</td>\n",
       "      <td>BB McCullum</td>\n",
       "      <td>0</td>\n",
       "      <td>0</td>\n",
       "      <td>0</td>\n",
       "      <td>1</td>\n",
       "      <td>SC Ganguly</td>\n",
       "      <td>caught</td>\n",
       "      <td>JH Kallis</td>\n",
       "    </tr>\n",
       "    <tr>\n",
       "      <th>74</th>\n",
       "      <td>335982</td>\n",
       "      <td>1</td>\n",
       "      <td>Kolkata Knight Riders</td>\n",
       "      <td>Royal Challengers Bangalore</td>\n",
       "      <td>12</td>\n",
       "      <td>1</td>\n",
       "      <td>RT Ponting</td>\n",
       "      <td>JH Kallis</td>\n",
       "      <td>BB McCullum</td>\n",
       "      <td>0</td>\n",
       "      <td>0</td>\n",
       "      <td>0</td>\n",
       "      <td>1</td>\n",
       "      <td>RT Ponting</td>\n",
       "      <td>caught</td>\n",
       "      <td>P Kumar</td>\n",
       "    </tr>\n",
       "    <tr>\n",
       "      <th>106</th>\n",
       "      <td>335982</td>\n",
       "      <td>1</td>\n",
       "      <td>Kolkata Knight Riders</td>\n",
       "      <td>Royal Challengers Bangalore</td>\n",
       "      <td>17</td>\n",
       "      <td>1</td>\n",
       "      <td>DJ Hussey</td>\n",
       "      <td>AA Noffke</td>\n",
       "      <td>BB McCullum</td>\n",
       "      <td>0</td>\n",
       "      <td>0</td>\n",
       "      <td>0</td>\n",
       "      <td>1</td>\n",
       "      <td>DJ Hussey</td>\n",
       "      <td>caught</td>\n",
       "      <td>CL White</td>\n",
       "    </tr>\n",
       "    <tr>\n",
       "      <th>154</th>\n",
       "      <td>335982</td>\n",
       "      <td>2</td>\n",
       "      <td>Royal Challengers Bangalore</td>\n",
       "      <td>Kolkata Knight Riders</td>\n",
       "      <td>4</td>\n",
       "      <td>5</td>\n",
       "      <td>JH Kallis</td>\n",
       "      <td>AB Agarkar</td>\n",
       "      <td>W Jaffer</td>\n",
       "      <td>0</td>\n",
       "      <td>0</td>\n",
       "      <td>0</td>\n",
       "      <td>1</td>\n",
       "      <td>JH Kallis</td>\n",
       "      <td>caught</td>\n",
       "      <td>M Kartik</td>\n",
       "    </tr>\n",
       "    <tr>\n",
       "      <th>157</th>\n",
       "      <td>335982</td>\n",
       "      <td>2</td>\n",
       "      <td>Royal Challengers Bangalore</td>\n",
       "      <td>Kolkata Knight Riders</td>\n",
       "      <td>5</td>\n",
       "      <td>2</td>\n",
       "      <td>W Jaffer</td>\n",
       "      <td>AB Dinda</td>\n",
       "      <td>CL White</td>\n",
       "      <td>0</td>\n",
       "      <td>0</td>\n",
       "      <td>0</td>\n",
       "      <td>1</td>\n",
       "      <td>W Jaffer</td>\n",
       "      <td>caught</td>\n",
       "      <td>RT Ponting</td>\n",
       "    </tr>\n",
       "    <tr>\n",
       "      <th>...</th>\n",
       "      <td>...</td>\n",
       "      <td>...</td>\n",
       "      <td>...</td>\n",
       "      <td>...</td>\n",
       "      <td>...</td>\n",
       "      <td>...</td>\n",
       "      <td>...</td>\n",
       "      <td>...</td>\n",
       "      <td>...</td>\n",
       "      <td>...</td>\n",
       "      <td>...</td>\n",
       "      <td>...</td>\n",
       "      <td>...</td>\n",
       "      <td>...</td>\n",
       "      <td>...</td>\n",
       "      <td>...</td>\n",
       "    </tr>\n",
       "    <tr>\n",
       "      <th>260802</th>\n",
       "      <td>1426312</td>\n",
       "      <td>1</td>\n",
       "      <td>Sunrisers Hyderabad</td>\n",
       "      <td>Kolkata Knight Riders</td>\n",
       "      <td>10</td>\n",
       "      <td>2</td>\n",
       "      <td>AK Markram</td>\n",
       "      <td>AD Russell</td>\n",
       "      <td>H Klaasen</td>\n",
       "      <td>0</td>\n",
       "      <td>0</td>\n",
       "      <td>0</td>\n",
       "      <td>1</td>\n",
       "      <td>AK Markram</td>\n",
       "      <td>caught</td>\n",
       "      <td>MA Starc</td>\n",
       "    </tr>\n",
       "    <tr>\n",
       "      <th>260811</th>\n",
       "      <td>1426312</td>\n",
       "      <td>1</td>\n",
       "      <td>Sunrisers Hyderabad</td>\n",
       "      <td>Kolkata Knight Riders</td>\n",
       "      <td>11</td>\n",
       "      <td>5</td>\n",
       "      <td>Shahbaz Ahmed</td>\n",
       "      <td>CV Varun</td>\n",
       "      <td>H Klaasen</td>\n",
       "      <td>0</td>\n",
       "      <td>0</td>\n",
       "      <td>0</td>\n",
       "      <td>1</td>\n",
       "      <td>Shahbaz Ahmed</td>\n",
       "      <td>caught</td>\n",
       "      <td>SP Narine</td>\n",
       "    </tr>\n",
       "    <tr>\n",
       "      <th>260817</th>\n",
       "      <td>1426312</td>\n",
       "      <td>1</td>\n",
       "      <td>Sunrisers Hyderabad</td>\n",
       "      <td>Kolkata Knight Riders</td>\n",
       "      <td>12</td>\n",
       "      <td>5</td>\n",
       "      <td>Abdul Samad</td>\n",
       "      <td>AD Russell</td>\n",
       "      <td>H Klaasen</td>\n",
       "      <td>0</td>\n",
       "      <td>0</td>\n",
       "      <td>0</td>\n",
       "      <td>1</td>\n",
       "      <td>Abdul Samad</td>\n",
       "      <td>caught</td>\n",
       "      <td>Rahmanullah Gurbaz</td>\n",
       "    </tr>\n",
       "    <tr>\n",
       "      <th>260852</th>\n",
       "      <td>1426312</td>\n",
       "      <td>1</td>\n",
       "      <td>Sunrisers Hyderabad</td>\n",
       "      <td>Kolkata Knight Riders</td>\n",
       "      <td>18</td>\n",
       "      <td>3</td>\n",
       "      <td>PJ Cummins</td>\n",
       "      <td>AD Russell</td>\n",
       "      <td>B Kumar</td>\n",
       "      <td>0</td>\n",
       "      <td>0</td>\n",
       "      <td>0</td>\n",
       "      <td>1</td>\n",
       "      <td>PJ Cummins</td>\n",
       "      <td>caught</td>\n",
       "      <td>MA Starc</td>\n",
       "    </tr>\n",
       "    <tr>\n",
       "      <th>260861</th>\n",
       "      <td>1426312</td>\n",
       "      <td>2</td>\n",
       "      <td>Kolkata Knight Riders</td>\n",
       "      <td>Sunrisers Hyderabad</td>\n",
       "      <td>1</td>\n",
       "      <td>2</td>\n",
       "      <td>SP Narine</td>\n",
       "      <td>PJ Cummins</td>\n",
       "      <td>Rahmanullah Gurbaz</td>\n",
       "      <td>0</td>\n",
       "      <td>0</td>\n",
       "      <td>0</td>\n",
       "      <td>1</td>\n",
       "      <td>SP Narine</td>\n",
       "      <td>caught</td>\n",
       "      <td>Shahbaz Ahmed</td>\n",
       "    </tr>\n",
       "  </tbody>\n",
       "</table>\n",
       "<p>9354 rows × 16 columns</p>\n",
       "</div>"
      ],
      "text/plain": [
       "        match_id  inning                 batting_team  \\\n",
       "33        335982       1        Kolkata Knight Riders   \n",
       "74        335982       1        Kolkata Knight Riders   \n",
       "106       335982       1        Kolkata Knight Riders   \n",
       "154       335982       2  Royal Challengers Bangalore   \n",
       "157       335982       2  Royal Challengers Bangalore   \n",
       "...          ...     ...                          ...   \n",
       "260802   1426312       1          Sunrisers Hyderabad   \n",
       "260811   1426312       1          Sunrisers Hyderabad   \n",
       "260817   1426312       1          Sunrisers Hyderabad   \n",
       "260852   1426312       1          Sunrisers Hyderabad   \n",
       "260861   1426312       2        Kolkata Knight Riders   \n",
       "\n",
       "                       bowling_team  over  ball         batter      bowler  \\\n",
       "33      Royal Challengers Bangalore     5     2     SC Ganguly      Z Khan   \n",
       "74      Royal Challengers Bangalore    12     1     RT Ponting   JH Kallis   \n",
       "106     Royal Challengers Bangalore    17     1      DJ Hussey   AA Noffke   \n",
       "154           Kolkata Knight Riders     4     5      JH Kallis  AB Agarkar   \n",
       "157           Kolkata Knight Riders     5     2       W Jaffer    AB Dinda   \n",
       "...                             ...   ...   ...            ...         ...   \n",
       "260802        Kolkata Knight Riders    10     2     AK Markram  AD Russell   \n",
       "260811        Kolkata Knight Riders    11     5  Shahbaz Ahmed    CV Varun   \n",
       "260817        Kolkata Knight Riders    12     5    Abdul Samad  AD Russell   \n",
       "260852        Kolkata Knight Riders    18     3     PJ Cummins  AD Russell   \n",
       "260861          Sunrisers Hyderabad     1     2      SP Narine  PJ Cummins   \n",
       "\n",
       "               non_striker  batsman_runs  extra_runs  total_runs  is_wicket  \\\n",
       "33             BB McCullum             0           0           0          1   \n",
       "74             BB McCullum             0           0           0          1   \n",
       "106            BB McCullum             0           0           0          1   \n",
       "154               W Jaffer             0           0           0          1   \n",
       "157               CL White             0           0           0          1   \n",
       "...                    ...           ...         ...         ...        ...   \n",
       "260802           H Klaasen             0           0           0          1   \n",
       "260811           H Klaasen             0           0           0          1   \n",
       "260817           H Klaasen             0           0           0          1   \n",
       "260852             B Kumar             0           0           0          1   \n",
       "260861  Rahmanullah Gurbaz             0           0           0          1   \n",
       "\n",
       "       player_dismissed dismissal_kind             fielder  \n",
       "33           SC Ganguly         caught           JH Kallis  \n",
       "74           RT Ponting         caught             P Kumar  \n",
       "106           DJ Hussey         caught            CL White  \n",
       "154           JH Kallis         caught            M Kartik  \n",
       "157            W Jaffer         caught          RT Ponting  \n",
       "...                 ...            ...                 ...  \n",
       "260802       AK Markram         caught            MA Starc  \n",
       "260811    Shahbaz Ahmed         caught           SP Narine  \n",
       "260817      Abdul Samad         caught  Rahmanullah Gurbaz  \n",
       "260852       PJ Cummins         caught            MA Starc  \n",
       "260861        SP Narine         caught       Shahbaz Ahmed  \n",
       "\n",
       "[9354 rows x 16 columns]"
      ]
     },
     "execution_count": 16,
     "metadata": {},
     "output_type": "execute_result"
    }
   ],
   "source": [
    "deliveries[~deliveries['fielder'].isna()]"
   ]
  },
  {
   "cell_type": "code",
   "execution_count": 21,
   "metadata": {},
   "outputs": [],
   "source": [
    "deliveries.to_csv('deliveries.csv',index=False)"
   ]
  },
  {
   "cell_type": "markdown",
   "metadata": {},
   "source": [
    "# Encoding of Data"
   ]
  },
  {
   "cell_type": "code",
   "execution_count": 27,
   "metadata": {},
   "outputs": [],
   "source": [
    "from sklearn.preprocessing import OrdinalEncoder"
   ]
  },
  {
   "cell_type": "code",
   "execution_count": 54,
   "metadata": {},
   "outputs": [
    {
     "data": {
      "text/plain": [
       "match_type\n",
       "League        1029\n",
       "Qualifier       28\n",
       "Eliminator      21\n",
       "Final           17\n",
       "Name: count, dtype: int64"
      ]
     },
     "execution_count": 54,
     "metadata": {},
     "output_type": "execute_result"
    }
   ],
   "source": [
    "matches['match_type'].value_counts()"
   ]
  },
  {
   "cell_type": "code",
   "execution_count": 53,
   "metadata": {},
   "outputs": [],
   "source": [
    "matches.loc[matches['match_type'] == 'Qualifier 1', 'match_type'] = 'Qualifier'\n",
    "matches.loc[matches['match_type'] == 'Qualifier 2', 'match_type'] = 'Qualifier'"
   ]
  },
  {
   "cell_type": "code",
   "execution_count": 42,
   "metadata": {},
   "outputs": [],
   "source": [
    "matches.loc[matches['match_type'] == 'Elimination Final', 'match_type'] = 'Eliminator'"
   ]
  },
  {
   "cell_type": "code",
   "execution_count": 57,
   "metadata": {},
   "outputs": [],
   "source": [
    "matches.loc[matches['match_type']=='Semi Final', 'match_type']='Eliminator'\n",
    "matches.loc[matches['match_type']=='3rd Place Play-Off', 'match_type']='Eliminator'"
   ]
  },
  {
   "cell_type": "code",
   "execution_count": 32,
   "metadata": {},
   "outputs": [],
   "source": [
    "from sklearn.compose import ColumnTransformer\n",
    "from sklearn.pipeline import make_pipeline"
   ]
  },
  {
   "cell_type": "code",
   "execution_count": 59,
   "metadata": {},
   "outputs": [],
   "source": [
    "matches.drop(columns=['city'],inplace=True)"
   ]
  },
  {
   "cell_type": "code",
   "execution_count": 61,
   "metadata": {},
   "outputs": [],
   "source": [
    "from sklearn.preprocessing import OneHotEncoder"
   ]
  },
  {
   "cell_type": "code",
   "execution_count": 68,
   "metadata": {},
   "outputs": [],
   "source": [
    "from sklearn.preprocessing import LabelEncoder"
   ]
  },
  {
   "cell_type": "code",
   "execution_count": 76,
   "metadata": {},
   "outputs": [],
   "source": [
    "toss_decision_encoder=LabelEncoder()\n",
    "result_encoder=LabelEncoder()\n",
    "team_encoder=OneHotEncoder(sparse_output=False)\n",
    "target_runs_encoder=LabelEncoder()\n",
    "target_overs_encoder=LabelEncoder()\n",
    "match_type_encoder=OrdinalEncoder(categories=[['League','Eliminator','Quilifier','Final']])\n"
   ]
  },
  {
   "cell_type": "code",
   "execution_count": null,
   "metadata": {},
   "outputs": [],
   "source": [
    "columnTransformer=ColumnTransformer([('match_type',match_type_encoder,['match_type']),\n",
    "                                    ['team',team_encoder,['team1','team2','toss_winner','winner']],\n",
    "                                    ['toss_decision',toss_decision_encoder,['toss_decision']],\n",
    "                                    ['result',result_encoder,['result']],\n",
    "                                    ['target_runs',target_runs_encoder,['target_runs']],\n",
    "                                    ['target_overs',target_overs_encoder,['target_overs']]\n",
    "                                    ],remainder='passthrough')"
   ]
  },
  {
   "cell_type": "code",
   "execution_count": 79,
   "metadata": {},
   "outputs": [],
   "source": [
    "matches.drop(columns=['3rd Place Play-Off'],inplace=True)"
   ]
  },
  {
   "cell_type": "code",
   "execution_count": 82,
   "metadata": {},
   "outputs": [
    {
     "data": {
      "text/html": [
       "<div>\n",
       "<style scoped>\n",
       "    .dataframe tbody tr th:only-of-type {\n",
       "        vertical-align: middle;\n",
       "    }\n",
       "\n",
       "    .dataframe tbody tr th {\n",
       "        vertical-align: top;\n",
       "    }\n",
       "\n",
       "    .dataframe thead th {\n",
       "        text-align: right;\n",
       "    }\n",
       "</style>\n",
       "<table border=\"1\" class=\"dataframe\">\n",
       "  <thead>\n",
       "    <tr style=\"text-align: right;\">\n",
       "      <th></th>\n",
       "      <th>season</th>\n",
       "      <th>date</th>\n",
       "      <th>match_type</th>\n",
       "      <th>player_of_match</th>\n",
       "      <th>venue</th>\n",
       "      <th>team1</th>\n",
       "      <th>team2</th>\n",
       "      <th>toss_winner</th>\n",
       "      <th>toss_decision</th>\n",
       "      <th>winner</th>\n",
       "      <th>result</th>\n",
       "      <th>result_margin</th>\n",
       "      <th>target_runs</th>\n",
       "      <th>target_overs</th>\n",
       "      <th>umpire1</th>\n",
       "      <th>umpire2</th>\n",
       "    </tr>\n",
       "  </thead>\n",
       "  <tbody>\n",
       "    <tr>\n",
       "      <th>0</th>\n",
       "      <td>2007/08</td>\n",
       "      <td>2008-04-18</td>\n",
       "      <td>League</td>\n",
       "      <td>BB McCullum</td>\n",
       "      <td>M Chinnaswamy Stadium</td>\n",
       "      <td>Royal Challengers Bangalore</td>\n",
       "      <td>Kolkata Knight Riders</td>\n",
       "      <td>Royal Challengers Bangalore</td>\n",
       "      <td>field</td>\n",
       "      <td>Kolkata Knight Riders</td>\n",
       "      <td>runs</td>\n",
       "      <td>140.0</td>\n",
       "      <td>223.0</td>\n",
       "      <td>20.0</td>\n",
       "      <td>Asad Rauf</td>\n",
       "      <td>RE Koertzen</td>\n",
       "    </tr>\n",
       "    <tr>\n",
       "      <th>1</th>\n",
       "      <td>2007/08</td>\n",
       "      <td>2008-04-19</td>\n",
       "      <td>League</td>\n",
       "      <td>MEK Hussey</td>\n",
       "      <td>Punjab Cricket Association Stadium, Mohali</td>\n",
       "      <td>Kings XI Punjab</td>\n",
       "      <td>Chennai Super Kings</td>\n",
       "      <td>Chennai Super Kings</td>\n",
       "      <td>bat</td>\n",
       "      <td>Chennai Super Kings</td>\n",
       "      <td>runs</td>\n",
       "      <td>33.0</td>\n",
       "      <td>241.0</td>\n",
       "      <td>20.0</td>\n",
       "      <td>MR Benson</td>\n",
       "      <td>SL Shastri</td>\n",
       "    </tr>\n",
       "    <tr>\n",
       "      <th>2</th>\n",
       "      <td>2007/08</td>\n",
       "      <td>2008-04-19</td>\n",
       "      <td>League</td>\n",
       "      <td>MF Maharoof</td>\n",
       "      <td>Feroz Shah Kotla</td>\n",
       "      <td>Delhi Daredevils</td>\n",
       "      <td>Rajasthan Royals</td>\n",
       "      <td>Rajasthan Royals</td>\n",
       "      <td>bat</td>\n",
       "      <td>Delhi Daredevils</td>\n",
       "      <td>wickets</td>\n",
       "      <td>9.0</td>\n",
       "      <td>130.0</td>\n",
       "      <td>20.0</td>\n",
       "      <td>Aleem Dar</td>\n",
       "      <td>GA Pratapkumar</td>\n",
       "    </tr>\n",
       "    <tr>\n",
       "      <th>3</th>\n",
       "      <td>2007/08</td>\n",
       "      <td>2008-04-20</td>\n",
       "      <td>League</td>\n",
       "      <td>MV Boucher</td>\n",
       "      <td>Wankhede Stadium</td>\n",
       "      <td>Mumbai Indians</td>\n",
       "      <td>Royal Challengers Bangalore</td>\n",
       "      <td>Mumbai Indians</td>\n",
       "      <td>bat</td>\n",
       "      <td>Royal Challengers Bangalore</td>\n",
       "      <td>wickets</td>\n",
       "      <td>5.0</td>\n",
       "      <td>166.0</td>\n",
       "      <td>20.0</td>\n",
       "      <td>SJ Davis</td>\n",
       "      <td>DJ Harper</td>\n",
       "    </tr>\n",
       "    <tr>\n",
       "      <th>4</th>\n",
       "      <td>2007/08</td>\n",
       "      <td>2008-04-20</td>\n",
       "      <td>League</td>\n",
       "      <td>DJ Hussey</td>\n",
       "      <td>Eden Gardens</td>\n",
       "      <td>Kolkata Knight Riders</td>\n",
       "      <td>Deccan Chargers</td>\n",
       "      <td>Deccan Chargers</td>\n",
       "      <td>bat</td>\n",
       "      <td>Kolkata Knight Riders</td>\n",
       "      <td>wickets</td>\n",
       "      <td>5.0</td>\n",
       "      <td>111.0</td>\n",
       "      <td>20.0</td>\n",
       "      <td>BF Bowden</td>\n",
       "      <td>K Hariharan</td>\n",
       "    </tr>\n",
       "    <tr>\n",
       "      <th>...</th>\n",
       "      <td>...</td>\n",
       "      <td>...</td>\n",
       "      <td>...</td>\n",
       "      <td>...</td>\n",
       "      <td>...</td>\n",
       "      <td>...</td>\n",
       "      <td>...</td>\n",
       "      <td>...</td>\n",
       "      <td>...</td>\n",
       "      <td>...</td>\n",
       "      <td>...</td>\n",
       "      <td>...</td>\n",
       "      <td>...</td>\n",
       "      <td>...</td>\n",
       "      <td>...</td>\n",
       "      <td>...</td>\n",
       "    </tr>\n",
       "    <tr>\n",
       "      <th>1090</th>\n",
       "      <td>2024</td>\n",
       "      <td>2024-05-19</td>\n",
       "      <td>League</td>\n",
       "      <td>Abhishek Sharma</td>\n",
       "      <td>Rajiv Gandhi International Stadium, Uppal, Hyd...</td>\n",
       "      <td>Punjab Kings</td>\n",
       "      <td>Sunrisers Hyderabad</td>\n",
       "      <td>Punjab Kings</td>\n",
       "      <td>bat</td>\n",
       "      <td>Sunrisers Hyderabad</td>\n",
       "      <td>wickets</td>\n",
       "      <td>4.0</td>\n",
       "      <td>215.0</td>\n",
       "      <td>20.0</td>\n",
       "      <td>Nitin Menon</td>\n",
       "      <td>VK Sharma</td>\n",
       "    </tr>\n",
       "    <tr>\n",
       "      <th>1091</th>\n",
       "      <td>2024</td>\n",
       "      <td>2024-05-21</td>\n",
       "      <td>Qualifier</td>\n",
       "      <td>MA Starc</td>\n",
       "      <td>Narendra Modi Stadium, Ahmedabad</td>\n",
       "      <td>Sunrisers Hyderabad</td>\n",
       "      <td>Kolkata Knight Riders</td>\n",
       "      <td>Sunrisers Hyderabad</td>\n",
       "      <td>bat</td>\n",
       "      <td>Kolkata Knight Riders</td>\n",
       "      <td>wickets</td>\n",
       "      <td>8.0</td>\n",
       "      <td>160.0</td>\n",
       "      <td>20.0</td>\n",
       "      <td>AK Chaudhary</td>\n",
       "      <td>R Pandit</td>\n",
       "    </tr>\n",
       "    <tr>\n",
       "      <th>1092</th>\n",
       "      <td>2024</td>\n",
       "      <td>2024-05-22</td>\n",
       "      <td>Eliminator</td>\n",
       "      <td>R Ashwin</td>\n",
       "      <td>Narendra Modi Stadium, Ahmedabad</td>\n",
       "      <td>Royal Challengers Bengaluru</td>\n",
       "      <td>Rajasthan Royals</td>\n",
       "      <td>Rajasthan Royals</td>\n",
       "      <td>field</td>\n",
       "      <td>Rajasthan Royals</td>\n",
       "      <td>wickets</td>\n",
       "      <td>4.0</td>\n",
       "      <td>173.0</td>\n",
       "      <td>20.0</td>\n",
       "      <td>KN Ananthapadmanabhan</td>\n",
       "      <td>MV Saidharshan Kumar</td>\n",
       "    </tr>\n",
       "    <tr>\n",
       "      <th>1093</th>\n",
       "      <td>2024</td>\n",
       "      <td>2024-05-24</td>\n",
       "      <td>Qualifier</td>\n",
       "      <td>Shahbaz Ahmed</td>\n",
       "      <td>MA Chidambaram Stadium, Chepauk, Chennai</td>\n",
       "      <td>Sunrisers Hyderabad</td>\n",
       "      <td>Rajasthan Royals</td>\n",
       "      <td>Rajasthan Royals</td>\n",
       "      <td>field</td>\n",
       "      <td>Sunrisers Hyderabad</td>\n",
       "      <td>runs</td>\n",
       "      <td>36.0</td>\n",
       "      <td>176.0</td>\n",
       "      <td>20.0</td>\n",
       "      <td>Nitin Menon</td>\n",
       "      <td>VK Sharma</td>\n",
       "    </tr>\n",
       "    <tr>\n",
       "      <th>1094</th>\n",
       "      <td>2024</td>\n",
       "      <td>2024-05-26</td>\n",
       "      <td>Final</td>\n",
       "      <td>MA Starc</td>\n",
       "      <td>MA Chidambaram Stadium, Chepauk, Chennai</td>\n",
       "      <td>Sunrisers Hyderabad</td>\n",
       "      <td>Kolkata Knight Riders</td>\n",
       "      <td>Sunrisers Hyderabad</td>\n",
       "      <td>bat</td>\n",
       "      <td>Kolkata Knight Riders</td>\n",
       "      <td>wickets</td>\n",
       "      <td>8.0</td>\n",
       "      <td>114.0</td>\n",
       "      <td>20.0</td>\n",
       "      <td>J Madanagopal</td>\n",
       "      <td>Nitin Menon</td>\n",
       "    </tr>\n",
       "  </tbody>\n",
       "</table>\n",
       "<p>1095 rows × 16 columns</p>\n",
       "</div>"
      ],
      "text/plain": [
       "       season        date  match_type  player_of_match  \\\n",
       "0     2007/08  2008-04-18      League      BB McCullum   \n",
       "1     2007/08  2008-04-19      League       MEK Hussey   \n",
       "2     2007/08  2008-04-19      League      MF Maharoof   \n",
       "3     2007/08  2008-04-20      League       MV Boucher   \n",
       "4     2007/08  2008-04-20      League        DJ Hussey   \n",
       "...       ...         ...         ...              ...   \n",
       "1090     2024  2024-05-19      League  Abhishek Sharma   \n",
       "1091     2024  2024-05-21   Qualifier         MA Starc   \n",
       "1092     2024  2024-05-22  Eliminator         R Ashwin   \n",
       "1093     2024  2024-05-24   Qualifier    Shahbaz Ahmed   \n",
       "1094     2024  2024-05-26       Final         MA Starc   \n",
       "\n",
       "                                                  venue  \\\n",
       "0                                 M Chinnaswamy Stadium   \n",
       "1            Punjab Cricket Association Stadium, Mohali   \n",
       "2                                      Feroz Shah Kotla   \n",
       "3                                      Wankhede Stadium   \n",
       "4                                          Eden Gardens   \n",
       "...                                                 ...   \n",
       "1090  Rajiv Gandhi International Stadium, Uppal, Hyd...   \n",
       "1091                   Narendra Modi Stadium, Ahmedabad   \n",
       "1092                   Narendra Modi Stadium, Ahmedabad   \n",
       "1093           MA Chidambaram Stadium, Chepauk, Chennai   \n",
       "1094           MA Chidambaram Stadium, Chepauk, Chennai   \n",
       "\n",
       "                            team1                        team2  \\\n",
       "0     Royal Challengers Bangalore        Kolkata Knight Riders   \n",
       "1                 Kings XI Punjab          Chennai Super Kings   \n",
       "2                Delhi Daredevils             Rajasthan Royals   \n",
       "3                  Mumbai Indians  Royal Challengers Bangalore   \n",
       "4           Kolkata Knight Riders              Deccan Chargers   \n",
       "...                           ...                          ...   \n",
       "1090                 Punjab Kings          Sunrisers Hyderabad   \n",
       "1091          Sunrisers Hyderabad        Kolkata Knight Riders   \n",
       "1092  Royal Challengers Bengaluru             Rajasthan Royals   \n",
       "1093          Sunrisers Hyderabad             Rajasthan Royals   \n",
       "1094          Sunrisers Hyderabad        Kolkata Knight Riders   \n",
       "\n",
       "                      toss_winner toss_decision                       winner  \\\n",
       "0     Royal Challengers Bangalore         field        Kolkata Knight Riders   \n",
       "1             Chennai Super Kings           bat          Chennai Super Kings   \n",
       "2                Rajasthan Royals           bat             Delhi Daredevils   \n",
       "3                  Mumbai Indians           bat  Royal Challengers Bangalore   \n",
       "4                 Deccan Chargers           bat        Kolkata Knight Riders   \n",
       "...                           ...           ...                          ...   \n",
       "1090                 Punjab Kings           bat          Sunrisers Hyderabad   \n",
       "1091          Sunrisers Hyderabad           bat        Kolkata Knight Riders   \n",
       "1092             Rajasthan Royals         field             Rajasthan Royals   \n",
       "1093             Rajasthan Royals         field          Sunrisers Hyderabad   \n",
       "1094          Sunrisers Hyderabad           bat        Kolkata Knight Riders   \n",
       "\n",
       "       result  result_margin  target_runs  target_overs  \\\n",
       "0        runs          140.0        223.0          20.0   \n",
       "1        runs           33.0        241.0          20.0   \n",
       "2     wickets            9.0        130.0          20.0   \n",
       "3     wickets            5.0        166.0          20.0   \n",
       "4     wickets            5.0        111.0          20.0   \n",
       "...       ...            ...          ...           ...   \n",
       "1090  wickets            4.0        215.0          20.0   \n",
       "1091  wickets            8.0        160.0          20.0   \n",
       "1092  wickets            4.0        173.0          20.0   \n",
       "1093     runs           36.0        176.0          20.0   \n",
       "1094  wickets            8.0        114.0          20.0   \n",
       "\n",
       "                    umpire1               umpire2  \n",
       "0                 Asad Rauf           RE Koertzen  \n",
       "1                 MR Benson            SL Shastri  \n",
       "2                 Aleem Dar        GA Pratapkumar  \n",
       "3                  SJ Davis             DJ Harper  \n",
       "4                 BF Bowden           K Hariharan  \n",
       "...                     ...                   ...  \n",
       "1090            Nitin Menon             VK Sharma  \n",
       "1091           AK Chaudhary              R Pandit  \n",
       "1092  KN Ananthapadmanabhan  MV Saidharshan Kumar  \n",
       "1093            Nitin Menon             VK Sharma  \n",
       "1094          J Madanagopal           Nitin Menon  \n",
       "\n",
       "[1095 rows x 16 columns]"
      ]
     },
     "execution_count": 82,
     "metadata": {},
     "output_type": "execute_result"
    }
   ],
   "source": [
    "matches"
   ]
  },
  {
   "cell_type": "code",
   "execution_count": 97,
   "metadata": {},
   "outputs": [],
   "source": [
    "matches.to_csv('matches_cleaned.csv',index=False)"
   ]
  }
 ],
 "metadata": {
  "kernelspec": {
   "display_name": "Python 3",
   "language": "python",
   "name": "python3"
  },
  "language_info": {
   "codemirror_mode": {
    "name": "ipython",
    "version": 3
   },
   "file_extension": ".py",
   "mimetype": "text/x-python",
   "name": "python",
   "nbconvert_exporter": "python",
   "pygments_lexer": "ipython3",
   "version": "3.12.5"
  }
 },
 "nbformat": 4,
 "nbformat_minor": 2
}
